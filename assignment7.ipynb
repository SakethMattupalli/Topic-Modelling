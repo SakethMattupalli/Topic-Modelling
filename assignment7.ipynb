{
 "cells": [
  {
   "cell_type": "code",
   "execution_count": null,
   "metadata": {},
   "outputs": [],
   "source": []
  },
  {
   "cell_type": "code",
   "execution_count": 1,
   "metadata": {},
   "outputs": [],
   "source": [
    "import pandas as pd\n",
    "\n",
    "import spacy\n",
    "nlp = spacy.load('en_core_web_sm')\n",
    "\n",
    "from wordcloud import WordCloud\n",
    "\n",
    "import matplotlib.pyplot as plt"
   ]
  },
  {
   "cell_type": "markdown",
   "metadata": {},
   "source": [
    "#### Here, we are loading the packages to be used for this particular type of project.\n",
    " - We loaded the Pandas library to work upon data structures in Python\n",
    " - We loaded spacy library to work upon Natural Language Processing\n",
    " - Then we loaded the en_core_web_sm model to work upon English Text\n",
    " - Afterwards, we loaded the wordcloud package which is used for visualizing text \n",
    " - At the end we loaded the matplotlib package which is basic visualization library to view plots in python"
   ]
  },
  {
   "cell_type": "code",
   "execution_count": 2,
   "metadata": {},
   "outputs": [
    {
     "ename": "FileNotFoundError",
     "evalue": "[Errno 2] File b'spam.csv' does not exist: b'spam.csv'",
     "output_type": "error",
     "traceback": [
      "\u001b[1;31m---------------------------------------------------------------------------\u001b[0m",
      "\u001b[1;31mFileNotFoundError\u001b[0m                         Traceback (most recent call last)",
      "\u001b[1;32m<ipython-input-2-d48898602fd4>\u001b[0m in \u001b[0;36m<module>\u001b[1;34m\u001b[0m\n\u001b[0;32m      1\u001b[0m mails = pd.read_csv('spam.csv',encoding='ISO-8859-1',\n\u001b[1;32m----> 2\u001b[1;33m                     header=None,skiprows = [0],names=['class','message','dump 1','dump 2','dump 3'])\n\u001b[0m\u001b[0;32m      3\u001b[0m \u001b[1;32mdel\u001b[0m \u001b[0mmails\u001b[0m\u001b[1;33m[\u001b[0m\u001b[1;34m'dump 1'\u001b[0m\u001b[1;33m]\u001b[0m\u001b[1;33m\u001b[0m\u001b[1;33m\u001b[0m\u001b[0m\n\u001b[0;32m      4\u001b[0m \u001b[1;32mdel\u001b[0m \u001b[0mmails\u001b[0m\u001b[1;33m[\u001b[0m\u001b[1;34m'dump 2'\u001b[0m\u001b[1;33m]\u001b[0m\u001b[1;33m\u001b[0m\u001b[1;33m\u001b[0m\u001b[0m\n\u001b[0;32m      5\u001b[0m \u001b[1;32mdel\u001b[0m \u001b[0mmails\u001b[0m\u001b[1;33m[\u001b[0m\u001b[1;34m'dump 3'\u001b[0m\u001b[1;33m]\u001b[0m\u001b[1;33m\u001b[0m\u001b[1;33m\u001b[0m\u001b[0m\n",
      "\u001b[1;32m~\\Anaconda3\\lib\\site-packages\\pandas\\io\\parsers.py\u001b[0m in \u001b[0;36mparser_f\u001b[1;34m(filepath_or_buffer, sep, delimiter, header, names, index_col, usecols, squeeze, prefix, mangle_dupe_cols, dtype, engine, converters, true_values, false_values, skipinitialspace, skiprows, skipfooter, nrows, na_values, keep_default_na, na_filter, verbose, skip_blank_lines, parse_dates, infer_datetime_format, keep_date_col, date_parser, dayfirst, iterator, chunksize, compression, thousands, decimal, lineterminator, quotechar, quoting, doublequote, escapechar, comment, encoding, dialect, tupleize_cols, error_bad_lines, warn_bad_lines, delim_whitespace, low_memory, memory_map, float_precision)\u001b[0m\n\u001b[0;32m    700\u001b[0m                     skip_blank_lines=skip_blank_lines)\n\u001b[0;32m    701\u001b[0m \u001b[1;33m\u001b[0m\u001b[0m\n\u001b[1;32m--> 702\u001b[1;33m         \u001b[1;32mreturn\u001b[0m \u001b[0m_read\u001b[0m\u001b[1;33m(\u001b[0m\u001b[0mfilepath_or_buffer\u001b[0m\u001b[1;33m,\u001b[0m \u001b[0mkwds\u001b[0m\u001b[1;33m)\u001b[0m\u001b[1;33m\u001b[0m\u001b[1;33m\u001b[0m\u001b[0m\n\u001b[0m\u001b[0;32m    703\u001b[0m \u001b[1;33m\u001b[0m\u001b[0m\n\u001b[0;32m    704\u001b[0m     \u001b[0mparser_f\u001b[0m\u001b[1;33m.\u001b[0m\u001b[0m__name__\u001b[0m \u001b[1;33m=\u001b[0m \u001b[0mname\u001b[0m\u001b[1;33m\u001b[0m\u001b[1;33m\u001b[0m\u001b[0m\n",
      "\u001b[1;32m~\\Anaconda3\\lib\\site-packages\\pandas\\io\\parsers.py\u001b[0m in \u001b[0;36m_read\u001b[1;34m(filepath_or_buffer, kwds)\u001b[0m\n\u001b[0;32m    427\u001b[0m \u001b[1;33m\u001b[0m\u001b[0m\n\u001b[0;32m    428\u001b[0m     \u001b[1;31m# Create the parser.\u001b[0m\u001b[1;33m\u001b[0m\u001b[1;33m\u001b[0m\u001b[1;33m\u001b[0m\u001b[0m\n\u001b[1;32m--> 429\u001b[1;33m     \u001b[0mparser\u001b[0m \u001b[1;33m=\u001b[0m \u001b[0mTextFileReader\u001b[0m\u001b[1;33m(\u001b[0m\u001b[0mfilepath_or_buffer\u001b[0m\u001b[1;33m,\u001b[0m \u001b[1;33m**\u001b[0m\u001b[0mkwds\u001b[0m\u001b[1;33m)\u001b[0m\u001b[1;33m\u001b[0m\u001b[1;33m\u001b[0m\u001b[0m\n\u001b[0m\u001b[0;32m    430\u001b[0m \u001b[1;33m\u001b[0m\u001b[0m\n\u001b[0;32m    431\u001b[0m     \u001b[1;32mif\u001b[0m \u001b[0mchunksize\u001b[0m \u001b[1;32mor\u001b[0m \u001b[0miterator\u001b[0m\u001b[1;33m:\u001b[0m\u001b[1;33m\u001b[0m\u001b[1;33m\u001b[0m\u001b[0m\n",
      "\u001b[1;32m~\\Anaconda3\\lib\\site-packages\\pandas\\io\\parsers.py\u001b[0m in \u001b[0;36m__init__\u001b[1;34m(self, f, engine, **kwds)\u001b[0m\n\u001b[0;32m    893\u001b[0m             \u001b[0mself\u001b[0m\u001b[1;33m.\u001b[0m\u001b[0moptions\u001b[0m\u001b[1;33m[\u001b[0m\u001b[1;34m'has_index_names'\u001b[0m\u001b[1;33m]\u001b[0m \u001b[1;33m=\u001b[0m \u001b[0mkwds\u001b[0m\u001b[1;33m[\u001b[0m\u001b[1;34m'has_index_names'\u001b[0m\u001b[1;33m]\u001b[0m\u001b[1;33m\u001b[0m\u001b[1;33m\u001b[0m\u001b[0m\n\u001b[0;32m    894\u001b[0m \u001b[1;33m\u001b[0m\u001b[0m\n\u001b[1;32m--> 895\u001b[1;33m         \u001b[0mself\u001b[0m\u001b[1;33m.\u001b[0m\u001b[0m_make_engine\u001b[0m\u001b[1;33m(\u001b[0m\u001b[0mself\u001b[0m\u001b[1;33m.\u001b[0m\u001b[0mengine\u001b[0m\u001b[1;33m)\u001b[0m\u001b[1;33m\u001b[0m\u001b[1;33m\u001b[0m\u001b[0m\n\u001b[0m\u001b[0;32m    896\u001b[0m \u001b[1;33m\u001b[0m\u001b[0m\n\u001b[0;32m    897\u001b[0m     \u001b[1;32mdef\u001b[0m \u001b[0mclose\u001b[0m\u001b[1;33m(\u001b[0m\u001b[0mself\u001b[0m\u001b[1;33m)\u001b[0m\u001b[1;33m:\u001b[0m\u001b[1;33m\u001b[0m\u001b[1;33m\u001b[0m\u001b[0m\n",
      "\u001b[1;32m~\\Anaconda3\\lib\\site-packages\\pandas\\io\\parsers.py\u001b[0m in \u001b[0;36m_make_engine\u001b[1;34m(self, engine)\u001b[0m\n\u001b[0;32m   1120\u001b[0m     \u001b[1;32mdef\u001b[0m \u001b[0m_make_engine\u001b[0m\u001b[1;33m(\u001b[0m\u001b[0mself\u001b[0m\u001b[1;33m,\u001b[0m \u001b[0mengine\u001b[0m\u001b[1;33m=\u001b[0m\u001b[1;34m'c'\u001b[0m\u001b[1;33m)\u001b[0m\u001b[1;33m:\u001b[0m\u001b[1;33m\u001b[0m\u001b[1;33m\u001b[0m\u001b[0m\n\u001b[0;32m   1121\u001b[0m         \u001b[1;32mif\u001b[0m \u001b[0mengine\u001b[0m \u001b[1;33m==\u001b[0m \u001b[1;34m'c'\u001b[0m\u001b[1;33m:\u001b[0m\u001b[1;33m\u001b[0m\u001b[1;33m\u001b[0m\u001b[0m\n\u001b[1;32m-> 1122\u001b[1;33m             \u001b[0mself\u001b[0m\u001b[1;33m.\u001b[0m\u001b[0m_engine\u001b[0m \u001b[1;33m=\u001b[0m \u001b[0mCParserWrapper\u001b[0m\u001b[1;33m(\u001b[0m\u001b[0mself\u001b[0m\u001b[1;33m.\u001b[0m\u001b[0mf\u001b[0m\u001b[1;33m,\u001b[0m \u001b[1;33m**\u001b[0m\u001b[0mself\u001b[0m\u001b[1;33m.\u001b[0m\u001b[0moptions\u001b[0m\u001b[1;33m)\u001b[0m\u001b[1;33m\u001b[0m\u001b[1;33m\u001b[0m\u001b[0m\n\u001b[0m\u001b[0;32m   1123\u001b[0m         \u001b[1;32melse\u001b[0m\u001b[1;33m:\u001b[0m\u001b[1;33m\u001b[0m\u001b[1;33m\u001b[0m\u001b[0m\n\u001b[0;32m   1124\u001b[0m             \u001b[1;32mif\u001b[0m \u001b[0mengine\u001b[0m \u001b[1;33m==\u001b[0m \u001b[1;34m'python'\u001b[0m\u001b[1;33m:\u001b[0m\u001b[1;33m\u001b[0m\u001b[1;33m\u001b[0m\u001b[0m\n",
      "\u001b[1;32m~\\Anaconda3\\lib\\site-packages\\pandas\\io\\parsers.py\u001b[0m in \u001b[0;36m__init__\u001b[1;34m(self, src, **kwds)\u001b[0m\n\u001b[0;32m   1851\u001b[0m         \u001b[0mkwds\u001b[0m\u001b[1;33m[\u001b[0m\u001b[1;34m'usecols'\u001b[0m\u001b[1;33m]\u001b[0m \u001b[1;33m=\u001b[0m \u001b[0mself\u001b[0m\u001b[1;33m.\u001b[0m\u001b[0musecols\u001b[0m\u001b[1;33m\u001b[0m\u001b[1;33m\u001b[0m\u001b[0m\n\u001b[0;32m   1852\u001b[0m \u001b[1;33m\u001b[0m\u001b[0m\n\u001b[1;32m-> 1853\u001b[1;33m         \u001b[0mself\u001b[0m\u001b[1;33m.\u001b[0m\u001b[0m_reader\u001b[0m \u001b[1;33m=\u001b[0m \u001b[0mparsers\u001b[0m\u001b[1;33m.\u001b[0m\u001b[0mTextReader\u001b[0m\u001b[1;33m(\u001b[0m\u001b[0msrc\u001b[0m\u001b[1;33m,\u001b[0m \u001b[1;33m**\u001b[0m\u001b[0mkwds\u001b[0m\u001b[1;33m)\u001b[0m\u001b[1;33m\u001b[0m\u001b[1;33m\u001b[0m\u001b[0m\n\u001b[0m\u001b[0;32m   1854\u001b[0m         \u001b[0mself\u001b[0m\u001b[1;33m.\u001b[0m\u001b[0munnamed_cols\u001b[0m \u001b[1;33m=\u001b[0m \u001b[0mself\u001b[0m\u001b[1;33m.\u001b[0m\u001b[0m_reader\u001b[0m\u001b[1;33m.\u001b[0m\u001b[0munnamed_cols\u001b[0m\u001b[1;33m\u001b[0m\u001b[1;33m\u001b[0m\u001b[0m\n\u001b[0;32m   1855\u001b[0m \u001b[1;33m\u001b[0m\u001b[0m\n",
      "\u001b[1;32mpandas/_libs/parsers.pyx\u001b[0m in \u001b[0;36mpandas._libs.parsers.TextReader.__cinit__\u001b[1;34m()\u001b[0m\n",
      "\u001b[1;32mpandas/_libs/parsers.pyx\u001b[0m in \u001b[0;36mpandas._libs.parsers.TextReader._setup_parser_source\u001b[1;34m()\u001b[0m\n",
      "\u001b[1;31mFileNotFoundError\u001b[0m: [Errno 2] File b'spam.csv' does not exist: b'spam.csv'"
     ]
    }
   ],
   "source": [
    "mails = pd.read_csv('spam.csv',encoding='ISO-8859-1',\n",
    "                    header=None,skiprows = [0],names=['class','message','dump 1','dump 2','dump 3'])\n",
    "del mails['dump 1']\n",
    "del mails['dump 2']\n",
    "del mails['dump 3']"
   ]
  },
  {
   "cell_type": "markdown",
   "metadata": {},
   "source": [
    "We start off by reading the csv file. As, the csv file is encoded in <b>utf-8</b> algorithm we use <b>encoding='ISO-8859-1'</b> so that pandas can read and make a dataframe out of the data.\n",
    "<br>We specified to skip first row which is nothing but header and provided column names by ourself.</br>\n",
    "\n",
    "Since dump 1 , dump2 and dump3 columns are of no use hence, we dropped them"
   ]
  },
  {
   "cell_type": "code",
   "execution_count": 3,
   "metadata": {},
   "outputs": [
    {
     "data": {
      "text/html": [
       "<div>\n",
       "<style scoped>\n",
       "    .dataframe tbody tr th:only-of-type {\n",
       "        vertical-align: middle;\n",
       "    }\n",
       "\n",
       "    .dataframe tbody tr th {\n",
       "        vertical-align: top;\n",
       "    }\n",
       "\n",
       "    .dataframe thead th {\n",
       "        text-align: right;\n",
       "    }\n",
       "</style>\n",
       "<table border=\"1\" class=\"dataframe\">\n",
       "  <thead>\n",
       "    <tr style=\"text-align: right;\">\n",
       "      <th></th>\n",
       "      <th>class</th>\n",
       "      <th>message</th>\n",
       "    </tr>\n",
       "  </thead>\n",
       "  <tbody>\n",
       "    <tr>\n",
       "      <th>0</th>\n",
       "      <td>ham</td>\n",
       "      <td>Go until jurong point, crazy.. Available only ...</td>\n",
       "    </tr>\n",
       "    <tr>\n",
       "      <th>1</th>\n",
       "      <td>ham</td>\n",
       "      <td>Ok lar... Joking wif u oni...</td>\n",
       "    </tr>\n",
       "    <tr>\n",
       "      <th>2</th>\n",
       "      <td>spam</td>\n",
       "      <td>Free entry in 2 a wkly comp to win FA Cup fina...</td>\n",
       "    </tr>\n",
       "    <tr>\n",
       "      <th>3</th>\n",
       "      <td>ham</td>\n",
       "      <td>U dun say so early hor... U c already then say...</td>\n",
       "    </tr>\n",
       "    <tr>\n",
       "      <th>4</th>\n",
       "      <td>ham</td>\n",
       "      <td>Nah I don't think he goes to usf, he lives aro...</td>\n",
       "    </tr>\n",
       "  </tbody>\n",
       "</table>\n",
       "</div>"
      ],
      "text/plain": [
       "  class                                            message\n",
       "0   ham  Go until jurong point, crazy.. Available only ...\n",
       "1   ham                      Ok lar... Joking wif u oni...\n",
       "2  spam  Free entry in 2 a wkly comp to win FA Cup fina...\n",
       "3   ham  U dun say so early hor... U c already then say...\n",
       "4   ham  Nah I don't think he goes to usf, he lives aro..."
      ]
     },
     "execution_count": 3,
     "metadata": {},
     "output_type": "execute_result"
    }
   ],
   "source": [
    "mails.head()"
   ]
  },
  {
   "cell_type": "markdown",
   "metadata": {},
   "source": [
    "After the last step we are left with two columns which are <b>class</b> and <b>message</b>"
   ]
  },
  {
   "cell_type": "code",
   "execution_count": 4,
   "metadata": {},
   "outputs": [
    {
     "data": {
      "text/plain": [
       "(5572, 2)"
      ]
     },
     "execution_count": 4,
     "metadata": {},
     "output_type": "execute_result"
    }
   ],
   "source": [
    "mails.shape"
   ]
  },
  {
   "cell_type": "markdown",
   "metadata": {},
   "source": [
    "On analyzing the shape of dataframe mails we can see that there are 5572 rows and 2 columns"
   ]
  },
  {
   "cell_type": "code",
   "execution_count": 5,
   "metadata": {},
   "outputs": [],
   "source": [
    "mails = mails.sample(frac=0.10)"
   ]
  },
  {
   "cell_type": "markdown",
   "metadata": {},
   "source": [
    "The dataset is too large for processing hence, we took a 10% sample of the original dataframe."
   ]
  },
  {
   "cell_type": "markdown",
   "metadata": {},
   "source": [
    "## Analyzing Text"
   ]
  },
  {
   "cell_type": "code",
   "execution_count": 6,
   "metadata": {},
   "outputs": [
    {
     "data": {
      "text/plain": [
       "class      0\n",
       "message    0\n",
       "dtype: int64"
      ]
     },
     "execution_count": 6,
     "metadata": {},
     "output_type": "execute_result"
    }
   ],
   "source": [
    "mails.isnull().sum()"
   ]
  },
  {
   "cell_type": "markdown",
   "metadata": {},
   "source": [
    "There are no Null values in the dataframe"
   ]
  },
  {
   "cell_type": "code",
   "execution_count": 7,
   "metadata": {},
   "outputs": [],
   "source": [
    "spam_mails = mails[mails['class'] == 'spam']\n",
    "ham_mails = mails[mails['class'] == 'ham']"
   ]
  },
  {
   "cell_type": "markdown",
   "metadata": {},
   "source": [
    "Here, we have seggegrated the data into respective classes such that <b>spam_mails</b> contains those rows or messages which are tagged as <b>Spam</b> and <b>ham_mails</b> contains those rows or messages which are tagged as <b>Ham</b> "
   ]
  },
  {
   "cell_type": "markdown",
   "metadata": {},
   "source": [
    "## Applying Natural Language Processing"
   ]
  },
  {
   "cell_type": "code",
   "execution_count": 8,
   "metadata": {},
   "outputs": [],
   "source": [
    "def nlp_finder(text):\n",
    "    doc = nlp(text)\n",
    "    tokenized_text = ''\n",
    "    for i in doc:\n",
    "        if i.is_stop!=True and not i.is_punct and not i.like_num:\n",
    "            tokenized_text = tokenized_text + i.lemma_ + ' '\n",
    "    return tokenized_text.strip()"
   ]
  },
  {
   "cell_type": "markdown",
   "metadata": {},
   "source": [
    "Now, we have separated our data on basis of classes. \n",
    "<br>But before visualizing them there is a strong urge to clean text. So, we used natural language processing</br>\n",
    "<br>We declared a function called <b>nlp_finder()</b>which accepts string as input. It tokenizes the text and checks whether it is a stopword, punctuation mark or number. If it is not then its lemmatized version is being stored into string <b>tokenized_text</b></br>"
   ]
  },
  {
   "cell_type": "code",
   "execution_count": 9,
   "metadata": {},
   "outputs": [],
   "source": [
    "spam_message = []\n",
    "ham_message = []\n",
    "for i in spam_mails['message'].values.tolist():\n",
    "    spam_message.append(nlp_finder(i))\n",
    "for i in ham_mails['message'].values.tolist():\n",
    "    ham_message.append(nlp_finder(i))"
   ]
  },
  {
   "cell_type": "markdown",
   "metadata": {},
   "source": [
    "For each ham and spam emails we passed each row from respective dataframe and stored them into <b>spam_message</b> and <b>ham_message</b> respectively."
   ]
  },
  {
   "cell_type": "markdown",
   "metadata": {},
   "source": [
    "## Spam Words Visualization"
   ]
  },
  {
   "cell_type": "code",
   "execution_count": 10,
   "metadata": {},
   "outputs": [],
   "source": [
    "spam_wc = WordCloud(width = 512 , height = 512).generate(' '.join(spam_message))"
   ]
  },
  {
   "cell_type": "code",
   "execution_count": 11,
   "metadata": {},
   "outputs": [
    {
     "data": {
      "image/png": "[encoded data removed]",
      "text/plain": [
       "<Figure size 360x720 with 1 Axes>"
      ]
     },
     "metadata": {
      "needs_background": "light"
     },
     "output_type": "display_data"
    }
   ],
   "source": [
    "plt.figure(figsize = (5,10))\n",
    "plt.imshow(spam_wc)\n",
    "plt.axis('off')\n",
    "plt.show()"
   ]
  },
  {
   "cell_type": "markdown",
   "metadata": {},
   "source": [
    "After getting all text after text processing we used Wordcloud to visualize the text and specified width and height as 512 pixels to get better visualization.\n",
    "Also, we plotted the graph using matplotlib library"
   ]
  },
  {
   "cell_type": "markdown",
   "metadata": {},
   "source": [
    "## Ham Words Visualization"
   ]
  },
  {
   "cell_type": "code",
   "execution_count": 12,
   "metadata": {},
   "outputs": [],
   "source": [
    "ham_wc = WordCloud(width = 512 , height = 512).generate(' '.join(ham_message))"
   ]
  },
  {
   "cell_type": "code",
   "execution_count": 13,
   "metadata": {},
   "outputs": [
    {
     "data": {
      "image/png": "[encoded data removed]",
      "text/plain": [
       "<Figure size 360x720 with 1 Axes>"
      ]
     },
     "metadata": {
      "needs_background": "light"
     },
     "output_type": "display_data"
    }
   ],
   "source": [
    "plt.figure(figsize = (5,10))\n",
    "plt.imshow(ham_wc)\n",
    "plt.axis('off')\n",
    "plt.show()"
   ]
  },
  {
   "cell_type": "markdown",
   "metadata": {},
   "source": [
    "We followed the same steps or Ham emails"
   ]
  },
  {
   "cell_type": "markdown",
   "metadata": {},
   "source": [
    "## Observation"
   ]
  },
  {
   "cell_type": "markdown",
   "metadata": {},
   "source": [
    "We observed that words like <b> free, text, send, reply</b> etc. are extensively used in Spam emails where normal words like <b>good, day</b> etc. are used in Ham emails"
   ]
  },
  {
   "cell_type": "code",
   "execution_count": 3,
   "metadata": {},
   "outputs": [],
   "source": [
    "import spacy\n",
    "nlp = spacy.load('en_core_web_sm')\n",
    "\n",
    "import pandas as pd\n",
    "\n",
    "import re"
   ]
  },
  {
   "cell_type": "code",
   "execution_count": null,
   "metadata": {},
   "outputs": [],
   "source": []
  },
  {
   "cell_type": "code",
   "execution_count": 4,
   "metadata": {
    "colab": {},
    "colab_type": "code",
    "id": "kSX8P7UYvY3q"
   },
   "outputs": [],
   "source": [
    "import spacy\n",
    "nlp = spacy.load('en_core_web_sm')\n",
    "\n",
    "import pandas as pd\n",
    "\n",
    "import re"
   ]
  },
  {
   "cell_type": "markdown",
   "metadata": {
    "colab_type": "text",
    "id": "sKrhWzbBvY3v"
   },
   "source": [
    "#### Here, we are loading the packages to be used for this particular type of project.\n",
    " - We loaded spacy library to work upon Natural Language Processing\n",
    " - Then we loaded the en_core_web_sm model to work upon English Text\n",
    " - Afterwards, we loaded the Pandas library to work upon data structures in Python\n",
    " - At the end we loaded the regular expression library to find specific patterns in data"
   ]
  },
  {
   "cell_type": "code",
   "execution_count": 0,
   "metadata": {
    "colab": {},
    "colab_type": "code",
    "id": "sEYQNxPRvY3w"
   },
   "outputs": [],
   "source": [
    "data = pd.read_excel('pos_ner.xlsx')"
   ]
  },
  {
   "cell_type": "markdown",
   "metadata": {
    "colab_type": "text",
    "id": "xIRuYP7gvY3y"
   },
   "source": [
    "We loaded the dataset <b>pos_ner.xlsx</b> by using <b>pd.read_excel<b> since the dataset is in excel format"
   ]
  },
  {
   "cell_type": "code",
   "execution_count": 0,
   "metadata": {
    "colab": {},
    "colab_type": "code",
    "id": "j9CcMugkvY3z",
    "outputId": "89ea0310-eee7-4c50-f83f-ec8b81bf5fd2"
   },
   "outputs": [
    {
     "data": {
      "text/html": [
       "<div>\n",
       "<style scoped>\n",
       "    .dataframe tbody tr th:only-of-type {\n",
       "        vertical-align: middle;\n",
       "    }\n",
       "\n",
       "    .dataframe tbody tr th {\n",
       "        vertical-align: top;\n",
       "    }\n",
       "\n",
       "    .dataframe thead th {\n",
       "        text-align: right;\n",
       "    }\n",
       "</style>\n",
       "<table border=\"1\" class=\"dataframe\">\n",
       "  <thead>\n",
       "    <tr style=\"text-align: right;\">\n",
       "      <th></th>\n",
       "      <th>Startup News</th>\n",
       "      <th>Summary</th>\n",
       "      <th>Posted By</th>\n",
       "      <th>Description</th>\n",
       "    </tr>\n",
       "  </thead>\n",
       "  <tbody>\n",
       "    <tr>\n",
       "      <th>0</th>\n",
       "      <td>Startup Valuation: art, science or both?</td>\n",
       "      <td>A good approach to valuing a startup involves ...</td>\n",
       "      <td>Devang Mehta</td>\n",
       "      <td>Startups get valued at various stages of their...</td>\n",
       "    </tr>\n",
       "    <tr>\n",
       "      <th>1</th>\n",
       "      <td>Innovation and education are about Aah, Aha, a...</td>\n",
       "      <td>This former international banker returned to I...</td>\n",
       "      <td>Madanmohan Rao</td>\n",
       "      <td>Ramji Raghavan is Founder-Chairman at Agastya ...</td>\n",
       "    </tr>\n",
       "    <tr>\n",
       "      <th>2</th>\n",
       "      <td>Art can make India stand tall and proud in the...</td>\n",
       "      <td>We dig deeper into the ArtSci Festival 2018 in...</td>\n",
       "      <td>Madanmohan Rao</td>\n",
       "      <td>PhotoSparks is a weekly feature from YourStory...</td>\n",
       "    </tr>\n",
       "    <tr>\n",
       "      <th>3</th>\n",
       "      <td>Meenakshi Group creates $10 million fund to in...</td>\n",
       "      <td>IT Park developer Meenakshi Group has created ...</td>\n",
       "      <td>Debolina Biswas</td>\n",
       "      <td>Hyderabad-headquartered IT Park developer Meen...</td>\n",
       "    </tr>\n",
       "    <tr>\n",
       "      <th>4</th>\n",
       "      <td>How to get funding at an idea level</td>\n",
       "      <td>NaN</td>\n",
       "      <td>Pradeep Goyal</td>\n",
       "      <td>This is an interesting one and works in realit...</td>\n",
       "    </tr>\n",
       "  </tbody>\n",
       "</table>\n",
       "</div>"
      ],
      "text/plain": [
       "                                        Startup News  \\\n",
       "0           Startup Valuation: art, science or both?   \n",
       "1  Innovation and education are about Aah, Aha, a...   \n",
       "2  Art can make India stand tall and proud in the...   \n",
       "3  Meenakshi Group creates $10 million fund to in...   \n",
       "4                How to get funding at an idea level   \n",
       "\n",
       "                                             Summary        Posted By  \\\n",
       "0  A good approach to valuing a startup involves ...     Devang Mehta   \n",
       "1  This former international banker returned to I...   Madanmohan Rao   \n",
       "2  We dig deeper into the ArtSci Festival 2018 in...   Madanmohan Rao   \n",
       "3  IT Park developer Meenakshi Group has created ...  Debolina Biswas   \n",
       "4                                                NaN    Pradeep Goyal   \n",
       "\n",
       "                                         Description  \n",
       "0  Startups get valued at various stages of their...  \n",
       "1  Ramji Raghavan is Founder-Chairman at Agastya ...  \n",
       "2  PhotoSparks is a weekly feature from YourStory...  \n",
       "3  Hyderabad-headquartered IT Park developer Meen...  \n",
       "4  This is an interesting one and works in realit...  "
      ]
     },
     "execution_count": 3,
     "metadata": {
      "tags": []
     },
     "output_type": "execute_result"
    }
   ],
   "source": [
    "data.head()"
   ]
  },
  {
   "cell_type": "markdown",
   "metadata": {
    "colab_type": "text",
    "id": "MtPn1xPZvY35"
   },
   "source": [
    "Analyzing the top 5 rows of the dataframe data"
   ]
  },
  {
   "cell_type": "code",
   "execution_count": 0,
   "metadata": {
    "colab": {},
    "colab_type": "code",
    "id": "VI7DPPH5vY36",
    "outputId": "0bf9a5cd-7483-4ad4-c7b7-8717c650cac2"
   },
   "outputs": [
    {
     "data": {
      "text/plain": [
       "Startup News    0\n",
       "Summary         2\n",
       "Posted By       0\n",
       "Description     0\n",
       "dtype: int64"
      ]
     },
     "execution_count": 4,
     "metadata": {
      "tags": []
     },
     "output_type": "execute_result"
    }
   ],
   "source": [
    "data.isnull().sum()"
   ]
  },
  {
   "cell_type": "markdown",
   "metadata": {
    "colab_type": "text",
    "id": "qGYA_zDVvY38"
   },
   "source": [
    "On checking null values we can conclude that there are 2 values in the actual dataframe"
   ]
  },
  {
   "cell_type": "code",
   "execution_count": 0,
   "metadata": {
    "colab": {},
    "colab_type": "code",
    "id": "8GhFe4OgvY39"
   },
   "outputs": [],
   "source": [
    "data.fillna(' ',inplace=True)"
   ]
  },
  {
   "cell_type": "markdown",
   "metadata": {
    "colab_type": "text",
    "id": "kk7dLWeavY3_"
   },
   "source": [
    "Since, we are working upon text hence we filled the Null values by space which is being denoted by <b>' '<b>"
   ]
  },
  {
   "cell_type": "code",
   "execution_count": 0,
   "metadata": {
    "colab": {},
    "colab_type": "code",
    "id": "SmlD6M_UvY4A",
    "outputId": "4b89222c-c0c1-4b00-da35-aa02c9d8e774"
   },
   "outputs": [
    {
     "data": {
      "text/html": [
       "<div>\n",
       "<style scoped>\n",
       "    .dataframe tbody tr th:only-of-type {\n",
       "        vertical-align: middle;\n",
       "    }\n",
       "\n",
       "    .dataframe tbody tr th {\n",
       "        vertical-align: top;\n",
       "    }\n",
       "\n",
       "    .dataframe thead th {\n",
       "        text-align: right;\n",
       "    }\n",
       "</style>\n",
       "<table border=\"1\" class=\"dataframe\">\n",
       "  <thead>\n",
       "    <tr style=\"text-align: right;\">\n",
       "      <th></th>\n",
       "      <th>Startup News</th>\n",
       "      <th>Summary</th>\n",
       "      <th>Posted By</th>\n",
       "      <th>Description</th>\n",
       "    </tr>\n",
       "  </thead>\n",
       "  <tbody>\n",
       "    <tr>\n",
       "      <th>0</th>\n",
       "      <td>Startup Valuation: art, science or both?</td>\n",
       "      <td>A good approach to valuing a startup involves ...</td>\n",
       "      <td>Devang Mehta</td>\n",
       "      <td>Startups get valued at various stages of their...</td>\n",
       "    </tr>\n",
       "    <tr>\n",
       "      <th>1</th>\n",
       "      <td>Innovation and education are about Aah, Aha, a...</td>\n",
       "      <td>This former international banker returned to I...</td>\n",
       "      <td>Madanmohan Rao</td>\n",
       "      <td>Ramji Raghavan is Founder-Chairman at Agastya ...</td>\n",
       "    </tr>\n",
       "    <tr>\n",
       "      <th>2</th>\n",
       "      <td>Art can make India stand tall and proud in the...</td>\n",
       "      <td>We dig deeper into the ArtSci Festival 2018 in...</td>\n",
       "      <td>Madanmohan Rao</td>\n",
       "      <td>PhotoSparks is a weekly feature from YourStory...</td>\n",
       "    </tr>\n",
       "    <tr>\n",
       "      <th>3</th>\n",
       "      <td>Meenakshi Group creates $10 million fund to in...</td>\n",
       "      <td>IT Park developer Meenakshi Group has created ...</td>\n",
       "      <td>Debolina Biswas</td>\n",
       "      <td>Hyderabad-headquartered IT Park developer Meen...</td>\n",
       "    </tr>\n",
       "    <tr>\n",
       "      <th>4</th>\n",
       "      <td>How to get funding at an idea level</td>\n",
       "      <td></td>\n",
       "      <td>Pradeep Goyal</td>\n",
       "      <td>This is an interesting one and works in realit...</td>\n",
       "    </tr>\n",
       "  </tbody>\n",
       "</table>\n",
       "</div>"
      ],
      "text/plain": [
       "                                        Startup News  \\\n",
       "0           Startup Valuation: art, science or both?   \n",
       "1  Innovation and education are about Aah, Aha, a...   \n",
       "2  Art can make India stand tall and proud in the...   \n",
       "3  Meenakshi Group creates $10 million fund to in...   \n",
       "4                How to get funding at an idea level   \n",
       "\n",
       "                                             Summary        Posted By  \\\n",
       "0  A good approach to valuing a startup involves ...     Devang Mehta   \n",
       "1  This former international banker returned to I...   Madanmohan Rao   \n",
       "2  We dig deeper into the ArtSci Festival 2018 in...   Madanmohan Rao   \n",
       "3  IT Park developer Meenakshi Group has created ...  Debolina Biswas   \n",
       "4                                                       Pradeep Goyal   \n",
       "\n",
       "                                         Description  \n",
       "0  Startups get valued at various stages of their...  \n",
       "1  Ramji Raghavan is Founder-Chairman at Agastya ...  \n",
       "2  PhotoSparks is a weekly feature from YourStory...  \n",
       "3  Hyderabad-headquartered IT Park developer Meen...  \n",
       "4  This is an interesting one and works in realit...  "
      ]
     },
     "execution_count": 6,
     "metadata": {
      "tags": []
     },
     "output_type": "execute_result"
    }
   ],
   "source": [
    "data.head()"
   ]
  },
  {
   "cell_type": "markdown",
   "metadata": {
    "colab_type": "text",
    "id": "b_XGs_g2vY4C"
   },
   "source": [
    "Analyzing the data we find out that instead of <b>NaN</b> now space is being displayed"
   ]
  },
  {
   "cell_type": "code",
   "execution_count": 0,
   "metadata": {
    "colab": {},
    "colab_type": "code",
    "id": "FD8A3YkVvY4D"
   },
   "outputs": [],
   "source": [
    "data['cumulative data'] = data['Startup News'] + data['Summary'] + data['Description']"
   ]
  },
  {
   "cell_type": "markdown",
   "metadata": {
    "colab_type": "text",
    "id": "_GCza3NQvY4F"
   },
   "source": [
    "Now, our aim is to find attributes of data such as Person Name, Location and Organization so we combined <b>Startup News, Summary</b> and <b>Description</b> column as anyone of them can contain potential detail"
   ]
  },
  {
   "cell_type": "code",
   "execution_count": 0,
   "metadata": {
    "colab": {},
    "colab_type": "code",
    "id": "ih1OT3zqvY4H",
    "outputId": "dc91a65a-1be5-4a9f-fa1a-7f6f44e465ef"
   },
   "outputs": [
    {
     "data": {
      "text/html": [
       "<div>\n",
       "<style scoped>\n",
       "    .dataframe tbody tr th:only-of-type {\n",
       "        vertical-align: middle;\n",
       "    }\n",
       "\n",
       "    .dataframe tbody tr th {\n",
       "        vertical-align: top;\n",
       "    }\n",
       "\n",
       "    .dataframe thead th {\n",
       "        text-align: right;\n",
       "    }\n",
       "</style>\n",
       "<table border=\"1\" class=\"dataframe\">\n",
       "  <thead>\n",
       "    <tr style=\"text-align: right;\">\n",
       "      <th></th>\n",
       "      <th>Startup News</th>\n",
       "      <th>Summary</th>\n",
       "      <th>Posted By</th>\n",
       "      <th>Description</th>\n",
       "      <th>cumulative data</th>\n",
       "    </tr>\n",
       "  </thead>\n",
       "  <tbody>\n",
       "    <tr>\n",
       "      <th>0</th>\n",
       "      <td>Startup Valuation: art, science or both?</td>\n",
       "      <td>A good approach to valuing a startup involves ...</td>\n",
       "      <td>Devang Mehta</td>\n",
       "      <td>Startups get valued at various stages of their...</td>\n",
       "      <td>Startup Valuation: art, science or both?A good...</td>\n",
       "    </tr>\n",
       "    <tr>\n",
       "      <th>1</th>\n",
       "      <td>Innovation and education are about Aah, Aha, a...</td>\n",
       "      <td>This former international banker returned to I...</td>\n",
       "      <td>Madanmohan Rao</td>\n",
       "      <td>Ramji Raghavan is Founder-Chairman at Agastya ...</td>\n",
       "      <td>Innovation and education are about Aah, Aha, a...</td>\n",
       "    </tr>\n",
       "    <tr>\n",
       "      <th>2</th>\n",
       "      <td>Art can make India stand tall and proud in the...</td>\n",
       "      <td>We dig deeper into the ArtSci Festival 2018 in...</td>\n",
       "      <td>Madanmohan Rao</td>\n",
       "      <td>PhotoSparks is a weekly feature from YourStory...</td>\n",
       "      <td>Art can make India stand tall and proud in the...</td>\n",
       "    </tr>\n",
       "    <tr>\n",
       "      <th>3</th>\n",
       "      <td>Meenakshi Group creates $10 million fund to in...</td>\n",
       "      <td>IT Park developer Meenakshi Group has created ...</td>\n",
       "      <td>Debolina Biswas</td>\n",
       "      <td>Hyderabad-headquartered IT Park developer Meen...</td>\n",
       "      <td>Meenakshi Group creates $10 million fund to in...</td>\n",
       "    </tr>\n",
       "    <tr>\n",
       "      <th>4</th>\n",
       "      <td>How to get funding at an idea level</td>\n",
       "      <td></td>\n",
       "      <td>Pradeep Goyal</td>\n",
       "      <td>This is an interesting one and works in realit...</td>\n",
       "      <td>How to get funding at an idea level This is an...</td>\n",
       "    </tr>\n",
       "  </tbody>\n",
       "</table>\n",
       "</div>"
      ],
      "text/plain": [
       "                                        Startup News  \\\n",
       "0           Startup Valuation: art, science or both?   \n",
       "1  Innovation and education are about Aah, Aha, a...   \n",
       "2  Art can make India stand tall and proud in the...   \n",
       "3  Meenakshi Group creates $10 million fund to in...   \n",
       "4                How to get funding at an idea level   \n",
       "\n",
       "                                             Summary        Posted By  \\\n",
       "0  A good approach to valuing a startup involves ...     Devang Mehta   \n",
       "1  This former international banker returned to I...   Madanmohan Rao   \n",
       "2  We dig deeper into the ArtSci Festival 2018 in...   Madanmohan Rao   \n",
       "3  IT Park developer Meenakshi Group has created ...  Debolina Biswas   \n",
       "4                                                       Pradeep Goyal   \n",
       "\n",
       "                                         Description  \\\n",
       "0  Startups get valued at various stages of their...   \n",
       "1  Ramji Raghavan is Founder-Chairman at Agastya ...   \n",
       "2  PhotoSparks is a weekly feature from YourStory...   \n",
       "3  Hyderabad-headquartered IT Park developer Meen...   \n",
       "4  This is an interesting one and works in realit...   \n",
       "\n",
       "                                     cumulative data  \n",
       "0  Startup Valuation: art, science or both?A good...  \n",
       "1  Innovation and education are about Aah, Aha, a...  \n",
       "2  Art can make India stand tall and proud in the...  \n",
       "3  Meenakshi Group creates $10 million fund to in...  \n",
       "4  How to get funding at an idea level This is an...  "
      ]
     },
     "execution_count": 8,
     "metadata": {
      "tags": []
     },
     "output_type": "execute_result"
    }
   ],
   "source": [
    "data.head()"
   ]
  },
  {
   "cell_type": "markdown",
   "metadata": {
    "colab_type": "text",
    "id": "OobKfGglvY4L"
   },
   "source": [
    "Analyzing the final dataset after combining dataset"
   ]
  },
  {
   "cell_type": "markdown",
   "metadata": {
    "colab_type": "text",
    "id": "5yq7-nh6vY4M"
   },
   "source": [
    "## Applying Part of Speech to identify Person Name, Organization and Location"
   ]
  },
  {
   "cell_type": "code",
   "execution_count": 0,
   "metadata": {
    "colab": {},
    "colab_type": "code",
    "id": "WPOVK4NavY4N"
   },
   "outputs": [],
   "source": [
    "def pos_tagger(text):\n",
    "    doc = nlp(text)\n",
    "    pos = []\n",
    "    for i in doc:\n",
    "        if i.is_stop!=True and i.is_punct!=True and i.pos_=='PROPN':\n",
    "            if i.lemma_ in pos:\n",
    "                continue\n",
    "            else:\n",
    "                pos.append(i.lemma_)\n",
    "    return pos"
   ]
  },
  {
   "cell_type": "markdown",
   "metadata": {
    "colab_type": "text",
    "id": "Wy2gYzedvY4P"
   },
   "source": [
    "We defined a function called <b>pos_tagger</b> which accepts string as input.\n",
    "<br>The input is being tokenized using nlp pipeline defined above and declared an empty list to store the end results</br>\n",
    "<br>Then we iterated over each token of the tokenized input text. The result is being stored into the list if the token is not a stopword, pucntuation mark and has <b>Proper Noun</b> as part of speech.<br>\n",
    "<br>The result is stored back in list only if list doesnot contain that word before. This helps in reducing repeatition</br>"
   ]
  },
  {
   "cell_type": "code",
   "execution_count": 0,
   "metadata": {
    "colab": {},
    "colab_type": "code",
    "id": "pI7Q_HvAvY4Q"
   },
   "outputs": [],
   "source": [
    "pos_result = []\n",
    "for i in data['cumulative data'].values.tolist():\n",
    "    pos_result.append(pos_tagger(i))"
   ]
  },
  {
   "cell_type": "code",
   "execution_count": 0,
   "metadata": {
    "colab": {},
    "colab_type": "code",
    "id": "E0-qsuPHvY4T"
   },
   "outputs": [],
   "source": [
    "data['Part of Speech'] = pos_result"
   ]
  },
  {
   "cell_type": "markdown",
   "metadata": {
    "colab_type": "text",
    "id": "YDdX-2tYvY4V"
   },
   "source": [
    "Then, we iterated over each row of column <b>cumulative data</b> of dataframe data and passed each row to function.\n",
    "The end result is being stored into list <b>pos_result</b>.\n",
    "Since, function pos_tagger is returning data in form of list hence, pos_result would be a list of list\n",
    "\n",
    "The final list is stored to <b>Part of Speech</b> column of dataframe"
   ]
  },
  {
   "cell_type": "code",
   "execution_count": 0,
   "metadata": {
    "colab": {},
    "colab_type": "code",
    "id": "SgRDgLXGvY4W",
    "outputId": "63e65da4-b6bb-46fd-a993-a71067042e17"
   },
   "outputs": [
    {
     "data": {
      "text/html": [
       "<div>\n",
       "<style scoped>\n",
       "    .dataframe tbody tr th:only-of-type {\n",
       "        vertical-align: middle;\n",
       "    }\n",
       "\n",
       "    .dataframe tbody tr th {\n",
       "        vertical-align: top;\n",
       "    }\n",
       "\n",
       "    .dataframe thead th {\n",
       "        text-align: right;\n",
       "    }\n",
       "</style>\n",
       "<table border=\"1\" class=\"dataframe\">\n",
       "  <thead>\n",
       "    <tr style=\"text-align: right;\">\n",
       "      <th></th>\n",
       "      <th>Startup News</th>\n",
       "      <th>Summary</th>\n",
       "      <th>Posted By</th>\n",
       "      <th>Description</th>\n",
       "      <th>cumulative data</th>\n",
       "      <th>Part of Speech</th>\n",
       "    </tr>\n",
       "  </thead>\n",
       "  <tbody>\n",
       "    <tr>\n",
       "      <th>0</th>\n",
       "      <td>Startup Valuation: art, science or both?</td>\n",
       "      <td>A good approach to valuing a startup involves ...</td>\n",
       "      <td>Devang Mehta</td>\n",
       "      <td>Startups get valued at various stages of their...</td>\n",
       "      <td>Startup Valuation: art, science or both?A good...</td>\n",
       "      <td>[Startup, DCF, VCS, Discounted, Cash, Flow, Fi...</td>\n",
       "    </tr>\n",
       "    <tr>\n",
       "      <th>1</th>\n",
       "      <td>Innovation and education are about Aah, Aha, a...</td>\n",
       "      <td>This former international banker returned to I...</td>\n",
       "      <td>Madanmohan Rao</td>\n",
       "      <td>Ramji Raghavan is Founder-Chairman at Agastya ...</td>\n",
       "      <td>Innovation and education are about Aah, Aha, a...</td>\n",
       "      <td>[Aah, Ha, Ramji, Raghavan, Agastya, Internatio...</td>\n",
       "    </tr>\n",
       "    <tr>\n",
       "      <th>2</th>\n",
       "      <td>Art can make India stand tall and proud in the...</td>\n",
       "      <td>We dig deeper into the ArtSci Festival 2018 in...</td>\n",
       "      <td>Madanmohan Rao</td>\n",
       "      <td>PhotoSparks is a weekly feature from YourStory...</td>\n",
       "      <td>Art can make India stand tall and proud in the...</td>\n",
       "      <td>[India, Sonu, Mulchandani, eStudioWe, ArtSci, ...</td>\n",
       "    </tr>\n",
       "    <tr>\n",
       "      <th>3</th>\n",
       "      <td>Meenakshi Group creates $10 million fund to in...</td>\n",
       "      <td>IT Park developer Meenakshi Group has created ...</td>\n",
       "      <td>Debolina Biswas</td>\n",
       "      <td>Hyderabad-headquartered IT Park developer Meen...</td>\n",
       "      <td>Meenakshi Group creates $10 million fund to in...</td>\n",
       "      <td>[Meenakshi, Group, startupsIT, Park, Multiples...</td>\n",
       "    </tr>\n",
       "    <tr>\n",
       "      <th>4</th>\n",
       "      <td>How to get funding at an idea level</td>\n",
       "      <td></td>\n",
       "      <td>Pradeep Goyal</td>\n",
       "      <td>This is an interesting one and works in realit...</td>\n",
       "      <td>How to get funding at an idea level This is an...</td>\n",
       "      <td>[WhatsApp, Facebook, Indians, ’s, MVP, Social,...</td>\n",
       "    </tr>\n",
       "  </tbody>\n",
       "</table>\n",
       "</div>"
      ],
      "text/plain": [
       "                                        Startup News  \\\n",
       "0           Startup Valuation: art, science or both?   \n",
       "1  Innovation and education are about Aah, Aha, a...   \n",
       "2  Art can make India stand tall and proud in the...   \n",
       "3  Meenakshi Group creates $10 million fund to in...   \n",
       "4                How to get funding at an idea level   \n",
       "\n",
       "                                             Summary        Posted By  \\\n",
       "0  A good approach to valuing a startup involves ...     Devang Mehta   \n",
       "1  This former international banker returned to I...   Madanmohan Rao   \n",
       "2  We dig deeper into the ArtSci Festival 2018 in...   Madanmohan Rao   \n",
       "3  IT Park developer Meenakshi Group has created ...  Debolina Biswas   \n",
       "4                                                       Pradeep Goyal   \n",
       "\n",
       "                                         Description  \\\n",
       "0  Startups get valued at various stages of their...   \n",
       "1  Ramji Raghavan is Founder-Chairman at Agastya ...   \n",
       "2  PhotoSparks is a weekly feature from YourStory...   \n",
       "3  Hyderabad-headquartered IT Park developer Meen...   \n",
       "4  This is an interesting one and works in realit...   \n",
       "\n",
       "                                     cumulative data  \\\n",
       "0  Startup Valuation: art, science or both?A good...   \n",
       "1  Innovation and education are about Aah, Aha, a...   \n",
       "2  Art can make India stand tall and proud in the...   \n",
       "3  Meenakshi Group creates $10 million fund to in...   \n",
       "4  How to get funding at an idea level This is an...   \n",
       "\n",
       "                                      Part of Speech  \n",
       "0  [Startup, DCF, VCS, Discounted, Cash, Flow, Fi...  \n",
       "1  [Aah, Ha, Ramji, Raghavan, Agastya, Internatio...  \n",
       "2  [India, Sonu, Mulchandani, eStudioWe, ArtSci, ...  \n",
       "3  [Meenakshi, Group, startupsIT, Park, Multiples...  \n",
       "4  [WhatsApp, Facebook, Indians, ’s, MVP, Social,...  "
      ]
     },
     "execution_count": 12,
     "metadata": {
      "tags": []
     },
     "output_type": "execute_result"
    }
   ],
   "source": [
    "data.head()"
   ]
  },
  {
   "cell_type": "markdown",
   "metadata": {
    "colab_type": "text",
    "id": "XTGndBnUvY4Y"
   },
   "source": [
    "At the end we analyzed the data and saw that for each story we have some Proper Noun which could be either Name, Organization or Location"
   ]
  },
  {
   "cell_type": "markdown",
   "metadata": {
    "colab_type": "text",
    "id": "T8gV2zGyvY4Z"
   },
   "source": [
    "## Applying NER(Named Entity Recognition) for further digging into data"
   ]
  },
  {
   "cell_type": "code",
   "execution_count": 0,
   "metadata": {
    "colab": {},
    "colab_type": "code",
    "id": "y66vN10ZvY4a"
   },
   "outputs": [],
   "source": [
    "def ner_tagger(text):\n",
    "    doc = nlp(text)\n",
    "    name = []\n",
    "    organization = []\n",
    "    location = []\n",
    "    for i in doc.ents:\n",
    "        if i.label_=='PERSON':\n",
    "            if i.lemma_ not in name:\n",
    "                name.append(i.lemma_)                \n",
    "        if i.label_=='ORG' and len(i.lemma_) > 2:\n",
    "            if i.lemma_ not in organization:\n",
    "                organization.append(i.lemma_)\n",
    "        if i.label_=='GPE' and len(i.lemma_) > 2:\n",
    "            if i.lemma_ not in location:\n",
    "                location.append(i.lemma_)\n",
    "    return name,organization,location"
   ]
  },
  {
   "cell_type": "markdown",
   "metadata": {
    "colab_type": "text",
    "id": "02cybrDdvY4c"
   },
   "source": [
    "The limitation of Part of Speech tagger is that it finds only Proper Noun but it is unable to differentiate between Person Name, Organization and Location.\n",
    "<br>Hence, we need another technique which helps us to do so.</br>\n",
    "<br>The technique called <b>Named Entity Recognition</b> serves our purpose</br>\n",
    "<br> We declared a function called <b>ner_tagger()</b> which accepts text as input and performs tokenization over the text.</br>\n",
    "\n",
    "<br>Then, we iterated over each token as entities and find out that if token has label <b>PERSON</b> we append it to a list name declared above.\n",
    "Also, if token has label <b>ORG</b>,<b>GPE</b> for organization and geographical location we append the data to organization list and location list respectively.</br>\n",
    "\n",
    "In this manner the attributes of data such as person name, location and organization name can be easily find out"
   ]
  },
  {
   "cell_type": "code",
   "execution_count": 0,
   "metadata": {
    "colab": {},
    "colab_type": "code",
    "id": "6PU-EDtVvY4c"
   },
   "outputs": [],
   "source": [
    "person = []\n",
    "org = []\n",
    "loc = []\n",
    "for i in data['cumulative data'].values.tolist():\n",
    "    a,b,c = ner_tagger(i)\n",
    "    person.append(a)\n",
    "    org.append(b)\n",
    "    loc.append(c)"
   ]
  },
  {
   "cell_type": "markdown",
   "metadata": {
    "colab_type": "text",
    "id": "yO6fP8fjvY4e"
   },
   "source": [
    "We iterated over cumulative data one by one and appended respective data to person, org and loc respectively."
   ]
  },
  {
   "cell_type": "code",
   "execution_count": 0,
   "metadata": {
    "colab": {},
    "colab_type": "code",
    "id": "iiHeU_lnvY4f"
   },
   "outputs": [],
   "source": [
    "data['Person Name'] = person\n",
    "data['Organization'] = org\n",
    "data['Geograpahical Location'] = loc"
   ]
  },
  {
   "cell_type": "markdown",
   "metadata": {
    "colab_type": "text",
    "id": "yaW31XcdvY4h"
   },
   "source": [
    "The final result from person, org and loc is being finally stored to pandas column Person Name, Organization and Geographical Location respectively"
   ]
  },
  {
   "cell_type": "code",
   "execution_count": 0,
   "metadata": {
    "colab": {},
    "colab_type": "code",
    "id": "eiz0pdMgvY4j",
    "outputId": "b393deff-e058-471a-e5ee-69bb43d2d9fa"
   },
   "outputs": [
    {
     "data": {
      "text/html": [
       "<div>\n",
       "<style scoped>\n",
       "    .dataframe tbody tr th:only-of-type {\n",
       "        vertical-align: middle;\n",
       "    }\n",
       "\n",
       "    .dataframe tbody tr th {\n",
       "        vertical-align: top;\n",
       "    }\n",
       "\n",
       "    .dataframe thead th {\n",
       "        text-align: right;\n",
       "    }\n",
       "</style>\n",
       "<table border=\"1\" class=\"dataframe\">\n",
       "  <thead>\n",
       "    <tr style=\"text-align: right;\">\n",
       "      <th></th>\n",
       "      <th>Startup News</th>\n",
       "      <th>Summary</th>\n",
       "      <th>Posted By</th>\n",
       "      <th>Description</th>\n",
       "      <th>cumulative data</th>\n",
       "      <th>Part of Speech</th>\n",
       "      <th>Person Name</th>\n",
       "      <th>Organization</th>\n",
       "      <th>Geograpahical Location</th>\n",
       "    </tr>\n",
       "  </thead>\n",
       "  <tbody>\n",
       "    <tr>\n",
       "      <th>0</th>\n",
       "      <td>Startup Valuation: art, science or both?</td>\n",
       "      <td>A good approach to valuing a startup involves ...</td>\n",
       "      <td>Devang Mehta</td>\n",
       "      <td>Startups get valued at various stages of their...</td>\n",
       "      <td>Startup Valuation: art, science or both?A good...</td>\n",
       "      <td>[Startup, DCF, VCS, Discounted, Cash, Flow, Fi...</td>\n",
       "      <td>[Startup valuation, Comparables]</td>\n",
       "      <td>[VCS, Discounted Cash Flow -, WACC, Corporate ...</td>\n",
       "      <td>[]</td>\n",
       "    </tr>\n",
       "    <tr>\n",
       "      <th>1</th>\n",
       "      <td>Innovation and education are about Aah, Aha, a...</td>\n",
       "      <td>This former international banker returned to I...</td>\n",
       "      <td>Madanmohan Rao</td>\n",
       "      <td>Ramji Raghavan is Founder-Chairman at Agastya ...</td>\n",
       "      <td>Innovation and education are about Aah, Aha, a...</td>\n",
       "      <td>[Aah, Ha, Ramji, Raghavan, Agastya, Internatio...</td>\n",
       "      <td>[Aah, Ramji Raghavan, Agastya, Ha - ha !, P.K....</td>\n",
       "      <td>[Agastya International FoundationThis, Agastya...</td>\n",
       "      <td>[India, Bengaluru, Agastya, Kuppam]</td>\n",
       "    </tr>\n",
       "    <tr>\n",
       "      <th>2</th>\n",
       "      <td>Art can make India stand tall and proud in the...</td>\n",
       "      <td>We dig deeper into the ArtSci Festival 2018 in...</td>\n",
       "      <td>Madanmohan Rao</td>\n",
       "      <td>PhotoSparks is a weekly feature from YourStory...</td>\n",
       "      <td>Art can make India stand tall and proud in the...</td>\n",
       "      <td>[India, Sonu, Mulchandani, eStudioWe, ArtSci, ...</td>\n",
       "      <td>[Rupchand Kundu, Sonu Mulchandani, Sonu, Alber...</td>\n",
       "      <td>[PhotoSparks, YourStory, sonu, eStudio]</td>\n",
       "      <td>[India, Whitefield, Bengaluru]</td>\n",
       "    </tr>\n",
       "    <tr>\n",
       "      <th>3</th>\n",
       "      <td>Meenakshi Group creates $10 million fund to in...</td>\n",
       "      <td>IT Park developer Meenakshi Group has created ...</td>\n",
       "      <td>Debolina Biswas</td>\n",
       "      <td>Hyderabad-headquartered IT Park developer Meen...</td>\n",
       "      <td>Meenakshi Group creates $10 million fund to in...</td>\n",
       "      <td>[Meenakshi, Group, startupsIT, Park, Multiples...</td>\n",
       "      <td>[Mahesh Katragadda]</td>\n",
       "      <td>[Meenakshi Group, Park, iKeva, Group, proptech...</td>\n",
       "      <td>[Hyderabad]</td>\n",
       "    </tr>\n",
       "    <tr>\n",
       "      <th>4</th>\n",
       "      <td>How to get funding at an idea level</td>\n",
       "      <td></td>\n",
       "      <td>Pradeep Goyal</td>\n",
       "      <td>This is an interesting one and works in realit...</td>\n",
       "      <td>How to get funding at an idea level This is an...</td>\n",
       "      <td>[WhatsApp, Facebook, Indians, ’s, MVP, Social,...</td>\n",
       "      <td>[Facebook]</td>\n",
       "      <td>[WhatsApp, Social Media, seo]</td>\n",
       "      <td>[]</td>\n",
       "    </tr>\n",
       "  </tbody>\n",
       "</table>\n",
       "</div>"
      ],
      "text/plain": [
       "                                        Startup News  \\\n",
       "0           Startup Valuation: art, science or both?   \n",
       "1  Innovation and education are about Aah, Aha, a...   \n",
       "2  Art can make India stand tall and proud in the...   \n",
       "3  Meenakshi Group creates $10 million fund to in...   \n",
       "4                How to get funding at an idea level   \n",
       "\n",
       "                                             Summary        Posted By  \\\n",
       "0  A good approach to valuing a startup involves ...     Devang Mehta   \n",
       "1  This former international banker returned to I...   Madanmohan Rao   \n",
       "2  We dig deeper into the ArtSci Festival 2018 in...   Madanmohan Rao   \n",
       "3  IT Park developer Meenakshi Group has created ...  Debolina Biswas   \n",
       "4                                                       Pradeep Goyal   \n",
       "\n",
       "                                         Description  \\\n",
       "0  Startups get valued at various stages of their...   \n",
       "1  Ramji Raghavan is Founder-Chairman at Agastya ...   \n",
       "2  PhotoSparks is a weekly feature from YourStory...   \n",
       "3  Hyderabad-headquartered IT Park developer Meen...   \n",
       "4  This is an interesting one and works in realit...   \n",
       "\n",
       "                                     cumulative data  \\\n",
       "0  Startup Valuation: art, science or both?A good...   \n",
       "1  Innovation and education are about Aah, Aha, a...   \n",
       "2  Art can make India stand tall and proud in the...   \n",
       "3  Meenakshi Group creates $10 million fund to in...   \n",
       "4  How to get funding at an idea level This is an...   \n",
       "\n",
       "                                      Part of Speech  \\\n",
       "0  [Startup, DCF, VCS, Discounted, Cash, Flow, Fi...   \n",
       "1  [Aah, Ha, Ramji, Raghavan, Agastya, Internatio...   \n",
       "2  [India, Sonu, Mulchandani, eStudioWe, ArtSci, ...   \n",
       "3  [Meenakshi, Group, startupsIT, Park, Multiples...   \n",
       "4  [WhatsApp, Facebook, Indians, ’s, MVP, Social,...   \n",
       "\n",
       "                                         Person Name  \\\n",
       "0                   [Startup valuation, Comparables]   \n",
       "1  [Aah, Ramji Raghavan, Agastya, Ha - ha !, P.K....   \n",
       "2  [Rupchand Kundu, Sonu Mulchandani, Sonu, Alber...   \n",
       "3                                [Mahesh Katragadda]   \n",
       "4                                         [Facebook]   \n",
       "\n",
       "                                        Organization  \\\n",
       "0  [VCS, Discounted Cash Flow -, WACC, Corporate ...   \n",
       "1  [Agastya International FoundationThis, Agastya...   \n",
       "2            [PhotoSparks, YourStory, sonu, eStudio]   \n",
       "3  [Meenakshi Group, Park, iKeva, Group, proptech...   \n",
       "4                      [WhatsApp, Social Media, seo]   \n",
       "\n",
       "                Geograpahical Location  \n",
       "0                                   []  \n",
       "1  [India, Bengaluru, Agastya, Kuppam]  \n",
       "2       [India, Whitefield, Bengaluru]  \n",
       "3                          [Hyderabad]  \n",
       "4                                   []  "
      ]
     },
     "execution_count": 16,
     "metadata": {
      "tags": []
     },
     "output_type": "execute_result"
    }
   ],
   "source": [
    "data.head()"
   ]
  },
  {
   "cell_type": "markdown",
   "metadata": {
    "colab_type": "text",
    "id": "7tcsDR8HvY4s"
   },
   "source": [
    "At the end we just previewed the final dataset"
   ]
  },
  {
   "cell_type": "code",
   "execution_count": 1,
   "metadata": {},
   "outputs": [],
   "source": [
    "import pandas as pd\n",
    "\n",
    "import spacy\n",
    "nlp = spacy.load('en_core_web_sm')\n",
    "\n",
    "import gensim\n",
    "from gensim.models import LdaModel\n",
    "from gensim.corpora import Dictionary\n",
    "\n",
    "import re"
   ]
  },
  {
   "cell_type": "markdown",
   "metadata": {},
   "source": [
    "#### Here, we are loading the packages to be used for this particular type of project.\n",
    " - We loaded the Pandas library to work upon data structures in Python\n",
    " - We loaded spacy library to work upon Natural Language Processing\n",
    " - Then we loaded the en_core_web_sm model to work upon English Text\n",
    " - Thereafter we loaded the <b>gensim</b> package which contains high level text processing packages. We loaded the <b>LdaModel</b> which is stored under models in gensim and Dictionary for processing in gensim corpora\n",
    " - At the end we loaded the regular expression library to find specific patterns in data"
   ]
  },
  {
   "cell_type": "code",
   "execution_count": 2,
   "metadata": {},
   "outputs": [],
   "source": [
    "data = pd.read_excel('topic_modelling.xlsx')"
   ]
  },
  {
   "cell_type": "markdown",
   "metadata": {},
   "source": [
    "We then load the excel file <b>topic_modelling.xlsx</b> using pandas read_excel function"
   ]
  },
  {
   "cell_type": "code",
   "execution_count": 3,
   "metadata": {},
   "outputs": [
    {
     "data": {
      "text/html": [
       "<div>\n",
       "<style scoped>\n",
       "    .dataframe tbody tr th:only-of-type {\n",
       "        vertical-align: middle;\n",
       "    }\n",
       "\n",
       "    .dataframe tbody tr th {\n",
       "        vertical-align: top;\n",
       "    }\n",
       "\n",
       "    .dataframe thead th {\n",
       "        text-align: right;\n",
       "    }\n",
       "</style>\n",
       "<table border=\"1\" class=\"dataframe\">\n",
       "  <thead>\n",
       "    <tr style=\"text-align: right;\">\n",
       "      <th></th>\n",
       "      <th>Startup News</th>\n",
       "      <th>Summary</th>\n",
       "      <th>Posted By</th>\n",
       "      <th>Description</th>\n",
       "    </tr>\n",
       "  </thead>\n",
       "  <tbody>\n",
       "    <tr>\n",
       "      <th>0</th>\n",
       "      <td>How PUBG has redefined the Indian gaming ecosy...</td>\n",
       "      <td>Indians are well and truly addicted to PUBG th...</td>\n",
       "      <td>Puneet Kumar</td>\n",
       "      <td>Earlier this month, I went to my home town in ...</td>\n",
       "    </tr>\n",
       "    <tr>\n",
       "      <th>1</th>\n",
       "      <td>Dream11 closes $100 M funding led by Tencent; ...</td>\n",
       "      <td>NaN</td>\n",
       "      <td>Vishal Krishna</td>\n",
       "      <td>Sports fantasy gaming company Dream11 has rais...</td>\n",
       "    </tr>\n",
       "    <tr>\n",
       "      <th>2</th>\n",
       "      <td>How enterprise gaming has grown from a ridicul...</td>\n",
       "      <td>NaN</td>\n",
       "      <td>Kamalika Bhattacharya</td>\n",
       "      <td>Having spent a large part of my career in the ...</td>\n",
       "    </tr>\n",
       "    <tr>\n",
       "      <th>3</th>\n",
       "      <td>These MBA grads are changing the way India loo...</td>\n",
       "      <td>From online tournaments to events, online poke...</td>\n",
       "      <td>Sindhu Kashyap</td>\n",
       "      <td>A deal, bated breath, a flush, a straight hand...</td>\n",
       "    </tr>\n",
       "    <tr>\n",
       "      <th>4</th>\n",
       "      <td>Facebook is celebrating two years of encouragi...</td>\n",
       "      <td>NaN</td>\n",
       "      <td>Team YS</td>\n",
       "      <td>Two years ago, Facebook India launched a uniqu...</td>\n",
       "    </tr>\n",
       "  </tbody>\n",
       "</table>\n",
       "</div>"
      ],
      "text/plain": [
       "                                        Startup News  \\\n",
       "0  How PUBG has redefined the Indian gaming ecosy...   \n",
       "1  Dream11 closes $100 M funding led by Tencent; ...   \n",
       "2  How enterprise gaming has grown from a ridicul...   \n",
       "3  These MBA grads are changing the way India loo...   \n",
       "4  Facebook is celebrating two years of encouragi...   \n",
       "\n",
       "                                             Summary              Posted By  \\\n",
       "0  Indians are well and truly addicted to PUBG th...           Puneet Kumar   \n",
       "1                                                NaN         Vishal Krishna   \n",
       "2                                                NaN  Kamalika Bhattacharya   \n",
       "3  From online tournaments to events, online poke...         Sindhu Kashyap   \n",
       "4                                                NaN                Team YS   \n",
       "\n",
       "                                         Description  \n",
       "0  Earlier this month, I went to my home town in ...  \n",
       "1  Sports fantasy gaming company Dream11 has rais...  \n",
       "2  Having spent a large part of my career in the ...  \n",
       "3  A deal, bated breath, a flush, a straight hand...  \n",
       "4  Two years ago, Facebook India launched a uniqu...  "
      ]
     },
     "execution_count": 3,
     "metadata": {},
     "output_type": "execute_result"
    }
   ],
   "source": [
    "data.head()"
   ]
  },
  {
   "cell_type": "markdown",
   "metadata": {},
   "source": [
    "We analyzed the data and find that there are several NaN values in Summary column."
   ]
  },
  {
   "cell_type": "code",
   "execution_count": 4,
   "metadata": {},
   "outputs": [
    {
     "data": {
      "text/plain": [
       "Startup News    0\n",
       "Summary         6\n",
       "Posted By       0\n",
       "Description     0\n",
       "dtype: int64"
      ]
     },
     "execution_count": 4,
     "metadata": {},
     "output_type": "execute_result"
    }
   ],
   "source": [
    "data.isnull().sum()"
   ]
  },
  {
   "cell_type": "markdown",
   "metadata": {},
   "source": [
    "To see if any other column contains Null or NaN value we used <b>.isnull().sum()</b> functionality and it revealed that only Summary column contains 6 Null values."
   ]
  },
  {
   "cell_type": "code",
   "execution_count": 5,
   "metadata": {},
   "outputs": [],
   "source": [
    "data.fillna(' ',inplace=True)"
   ]
  },
  {
   "cell_type": "markdown",
   "metadata": {},
   "source": [
    "Since, we are working upon text hence we filled the Null values by space which is being denoted by <b>' '<b>"
   ]
  },
  {
   "cell_type": "code",
   "execution_count": 6,
   "metadata": {},
   "outputs": [
    {
     "data": {
      "text/html": [
       "<div>\n",
       "<style scoped>\n",
       "    .dataframe tbody tr th:only-of-type {\n",
       "        vertical-align: middle;\n",
       "    }\n",
       "\n",
       "    .dataframe tbody tr th {\n",
       "        vertical-align: top;\n",
       "    }\n",
       "\n",
       "    .dataframe thead th {\n",
       "        text-align: right;\n",
       "    }\n",
       "</style>\n",
       "<table border=\"1\" class=\"dataframe\">\n",
       "  <thead>\n",
       "    <tr style=\"text-align: right;\">\n",
       "      <th></th>\n",
       "      <th>Startup News</th>\n",
       "      <th>Summary</th>\n",
       "      <th>Posted By</th>\n",
       "      <th>Description</th>\n",
       "    </tr>\n",
       "  </thead>\n",
       "  <tbody>\n",
       "    <tr>\n",
       "      <th>0</th>\n",
       "      <td>How PUBG has redefined the Indian gaming ecosy...</td>\n",
       "      <td>Indians are well and truly addicted to PUBG th...</td>\n",
       "      <td>Puneet Kumar</td>\n",
       "      <td>Earlier this month, I went to my home town in ...</td>\n",
       "    </tr>\n",
       "    <tr>\n",
       "      <th>1</th>\n",
       "      <td>Dream11 closes $100 M funding led by Tencent; ...</td>\n",
       "      <td></td>\n",
       "      <td>Vishal Krishna</td>\n",
       "      <td>Sports fantasy gaming company Dream11 has rais...</td>\n",
       "    </tr>\n",
       "    <tr>\n",
       "      <th>2</th>\n",
       "      <td>How enterprise gaming has grown from a ridicul...</td>\n",
       "      <td></td>\n",
       "      <td>Kamalika Bhattacharya</td>\n",
       "      <td>Having spent a large part of my career in the ...</td>\n",
       "    </tr>\n",
       "    <tr>\n",
       "      <th>3</th>\n",
       "      <td>These MBA grads are changing the way India loo...</td>\n",
       "      <td>From online tournaments to events, online poke...</td>\n",
       "      <td>Sindhu Kashyap</td>\n",
       "      <td>A deal, bated breath, a flush, a straight hand...</td>\n",
       "    </tr>\n",
       "    <tr>\n",
       "      <th>4</th>\n",
       "      <td>Facebook is celebrating two years of encouragi...</td>\n",
       "      <td></td>\n",
       "      <td>Team YS</td>\n",
       "      <td>Two years ago, Facebook India launched a uniqu...</td>\n",
       "    </tr>\n",
       "  </tbody>\n",
       "</table>\n",
       "</div>"
      ],
      "text/plain": [
       "                                        Startup News  \\\n",
       "0  How PUBG has redefined the Indian gaming ecosy...   \n",
       "1  Dream11 closes $100 M funding led by Tencent; ...   \n",
       "2  How enterprise gaming has grown from a ridicul...   \n",
       "3  These MBA grads are changing the way India loo...   \n",
       "4  Facebook is celebrating two years of encouragi...   \n",
       "\n",
       "                                             Summary              Posted By  \\\n",
       "0  Indians are well and truly addicted to PUBG th...           Puneet Kumar   \n",
       "1                                                            Vishal Krishna   \n",
       "2                                                     Kamalika Bhattacharya   \n",
       "3  From online tournaments to events, online poke...         Sindhu Kashyap   \n",
       "4                                                                   Team YS   \n",
       "\n",
       "                                         Description  \n",
       "0  Earlier this month, I went to my home town in ...  \n",
       "1  Sports fantasy gaming company Dream11 has rais...  \n",
       "2  Having spent a large part of my career in the ...  \n",
       "3  A deal, bated breath, a flush, a straight hand...  \n",
       "4  Two years ago, Facebook India launched a uniqu...  "
      ]
     },
     "execution_count": 6,
     "metadata": {},
     "output_type": "execute_result"
    }
   ],
   "source": [
    "data.head()"
   ]
  },
  {
   "cell_type": "markdown",
   "metadata": {},
   "source": [
    "Analyzing the data we find out that instead of <b>NaN</b> now space is being displayed"
   ]
  },
  {
   "cell_type": "code",
   "execution_count": 7,
   "metadata": {},
   "outputs": [],
   "source": [
    "data['cumulative data'] = data['Startup News'] + data['Summary'] + data['Description']"
   ]
  },
  {
   "cell_type": "markdown",
   "metadata": {},
   "source": [
    "Now, our aim is to find attributes of data such as Person Name, Location and Organization so we combined <b>Startup News, Summary</b> and <b>Description</b> column as anyone of them can contain potential detail"
   ]
  },
  {
   "cell_type": "code",
   "execution_count": 8,
   "metadata": {},
   "outputs": [
    {
     "data": {
      "text/html": [
       "<div>\n",
       "<style scoped>\n",
       "    .dataframe tbody tr th:only-of-type {\n",
       "        vertical-align: middle;\n",
       "    }\n",
       "\n",
       "    .dataframe tbody tr th {\n",
       "        vertical-align: top;\n",
       "    }\n",
       "\n",
       "    .dataframe thead th {\n",
       "        text-align: right;\n",
       "    }\n",
       "</style>\n",
       "<table border=\"1\" class=\"dataframe\">\n",
       "  <thead>\n",
       "    <tr style=\"text-align: right;\">\n",
       "      <th></th>\n",
       "      <th>Startup News</th>\n",
       "      <th>Summary</th>\n",
       "      <th>Posted By</th>\n",
       "      <th>Description</th>\n",
       "      <th>cumulative data</th>\n",
       "    </tr>\n",
       "  </thead>\n",
       "  <tbody>\n",
       "    <tr>\n",
       "      <th>0</th>\n",
       "      <td>How PUBG has redefined the Indian gaming ecosy...</td>\n",
       "      <td>Indians are well and truly addicted to PUBG th...</td>\n",
       "      <td>Puneet Kumar</td>\n",
       "      <td>Earlier this month, I went to my home town in ...</td>\n",
       "      <td>How PUBG has redefined the Indian gaming ecosy...</td>\n",
       "    </tr>\n",
       "    <tr>\n",
       "      <th>1</th>\n",
       "      <td>Dream11 closes $100 M funding led by Tencent; ...</td>\n",
       "      <td></td>\n",
       "      <td>Vishal Krishna</td>\n",
       "      <td>Sports fantasy gaming company Dream11 has rais...</td>\n",
       "      <td>Dream11 closes $100 M funding led by Tencent; ...</td>\n",
       "    </tr>\n",
       "    <tr>\n",
       "      <th>2</th>\n",
       "      <td>How enterprise gaming has grown from a ridicul...</td>\n",
       "      <td></td>\n",
       "      <td>Kamalika Bhattacharya</td>\n",
       "      <td>Having spent a large part of my career in the ...</td>\n",
       "      <td>How enterprise gaming has grown from a ridicul...</td>\n",
       "    </tr>\n",
       "    <tr>\n",
       "      <th>3</th>\n",
       "      <td>These MBA grads are changing the way India loo...</td>\n",
       "      <td>From online tournaments to events, online poke...</td>\n",
       "      <td>Sindhu Kashyap</td>\n",
       "      <td>A deal, bated breath, a flush, a straight hand...</td>\n",
       "      <td>These MBA grads are changing the way India loo...</td>\n",
       "    </tr>\n",
       "    <tr>\n",
       "      <th>4</th>\n",
       "      <td>Facebook is celebrating two years of encouragi...</td>\n",
       "      <td></td>\n",
       "      <td>Team YS</td>\n",
       "      <td>Two years ago, Facebook India launched a uniqu...</td>\n",
       "      <td>Facebook is celebrating two years of encouragi...</td>\n",
       "    </tr>\n",
       "  </tbody>\n",
       "</table>\n",
       "</div>"
      ],
      "text/plain": [
       "                                        Startup News  \\\n",
       "0  How PUBG has redefined the Indian gaming ecosy...   \n",
       "1  Dream11 closes $100 M funding led by Tencent; ...   \n",
       "2  How enterprise gaming has grown from a ridicul...   \n",
       "3  These MBA grads are changing the way India loo...   \n",
       "4  Facebook is celebrating two years of encouragi...   \n",
       "\n",
       "                                             Summary              Posted By  \\\n",
       "0  Indians are well and truly addicted to PUBG th...           Puneet Kumar   \n",
       "1                                                            Vishal Krishna   \n",
       "2                                                     Kamalika Bhattacharya   \n",
       "3  From online tournaments to events, online poke...         Sindhu Kashyap   \n",
       "4                                                                   Team YS   \n",
       "\n",
       "                                         Description  \\\n",
       "0  Earlier this month, I went to my home town in ...   \n",
       "1  Sports fantasy gaming company Dream11 has rais...   \n",
       "2  Having spent a large part of my career in the ...   \n",
       "3  A deal, bated breath, a flush, a straight hand...   \n",
       "4  Two years ago, Facebook India launched a uniqu...   \n",
       "\n",
       "                                     cumulative data  \n",
       "0  How PUBG has redefined the Indian gaming ecosy...  \n",
       "1  Dream11 closes $100 M funding led by Tencent; ...  \n",
       "2  How enterprise gaming has grown from a ridicul...  \n",
       "3  These MBA grads are changing the way India loo...  \n",
       "4  Facebook is celebrating two years of encouragi...  "
      ]
     },
     "execution_count": 8,
     "metadata": {},
     "output_type": "execute_result"
    }
   ],
   "source": [
    "data.head()"
   ]
  },
  {
   "cell_type": "markdown",
   "metadata": {},
   "source": [
    "Analyzing the final dataset after combining dataset"
   ]
  },
  {
   "cell_type": "code",
   "execution_count": 9,
   "metadata": {},
   "outputs": [],
   "source": [
    "text = data['cumulative data'].values.tolist()\n",
    "my_stop_words = [u'say',u'\\s',u'Mr',u'Mrs',u'said',u'says',u'saying']"
   ]
  },
  {
   "cell_type": "markdown",
   "metadata": {},
   "source": [
    "We extracted the <b>cumulative data</b> column from the data dataframe and converted it to list for faster accessibility.\n",
    "<br>Then, we defined our custom stopwords inside a list</br>"
   ]
  },
  {
   "cell_type": "code",
   "execution_count": 10,
   "metadata": {},
   "outputs": [],
   "source": [
    "for stopword in my_stop_words:\n",
    "    nlp.vocab[stopword].is_stop = True"
   ]
  },
  {
   "cell_type": "markdown",
   "metadata": {},
   "source": [
    "We iterated over <b>my_stop_words</b> list and using nlp pipeline vocab functionality we made the boolean result of operation <b>is_stop</b> of each stopword as True, i.e. each word in my_stop_words list is made a stopword in spacy corpus"
   ]
  },
  {
   "cell_type": "markdown",
   "metadata": {},
   "source": [
    "## Applying Topic modelling using LDA algorithm"
   ]
  },
  {
   "cell_type": "code",
   "execution_count": 11,
   "metadata": {},
   "outputs": [],
   "source": [
    "def topic_modeller(texting):\n",
    "    doc = nlp(texting)\n",
    "    article = []\n",
    "    for w in doc:\n",
    "        if w.is_stop!=True and not w.is_punct and not w.like_num:\n",
    "            article.append(w.lemma_)\n",
    "    bigram = gensim.models.Phrases(article)\n",
    "    texts = [bigram[line] for line in article]\n",
    "    article = [d.split() for d in article]\n",
    "    dictionary = Dictionary(article)\n",
    "    corpus = [dictionary.doc2bow(text) for text in article]\n",
    "    ldamodel = LdaModel(corpus=corpus,id2word=dictionary,num_topics=8,random_state=42)\n",
    "    ab = ldamodel.show_topics(num_topics=2)\n",
    "    b = re.sub(\"[^a-zA-Z]{4,}\",\" \",str(ab))\n",
    "    b = b.split()\n",
    "    unique_list = []\n",
    "    for x in b: \n",
    "        if x not in unique_list:\n",
    "            unique_list.append(x)\n",
    "    line = [i for i in unique_list if len(i) > 1]\n",
    "    return line"
   ]
  },
  {
   "cell_type": "markdown",
   "metadata": {},
   "source": [
    "Then, we defined a function called <b>topic_modeller</b> which accepts a string as input. We tokenized the input string so recieved.\n",
    "<br>We iterated over each token of tokenized input string and checked whether it is a stop word, punctuation mark or a number.\n",
    "If it is not then its lemmatized version is being stored into article list</br>\n",
    "<br>Then, we made bigrams and converted whole tokens into bigram to check possibility of words occuring together such as New York, Big Data etc.</br>\n",
    "<br>Afterwards, we prepared a dictionary and corpus to be used by LdaModel. We called the LdaModel and passed formed corpus and dictionary and decided 8 as number of topics</br>\n",
    "<br>The final output contains 2 sets of 8-8 topics making in total 16 topics to justify a document completely.</br>\n",
    "<br>Then, we applied regular expression to extract tags of length more than 4 and stored only unique topics.\n",
    "Thereafter, we returned the list <b>line</b> which contains final topics for the input story</br>"
   ]
  },
  {
   "cell_type": "code",
   "execution_count": 12,
   "metadata": {},
   "outputs": [],
   "source": [
    "result = []\n",
    "for j in text:\n",
    "    result.append(topic_modeller(j))\n",
    "data['Tags'] = result\n",
    "data['Tags'] = data['Tags'].str.join(', ')\n",
    "\n",
    "export = data[['Startup News','Summary','Posted By','Description','cumulative data','Tags']]"
   ]
  },
  {
   "cell_type": "markdown",
   "metadata": {},
   "source": [
    "We passed each story one by one to topic_modeller function and stored the result into <b>result</b> variable\n",
    "\n",
    "We then store all Tags to column <b>Tags</b> in dataframe data where each story contains corresponding tags"
   ]
  },
  {
   "cell_type": "code",
   "execution_count": 13,
   "metadata": {},
   "outputs": [
    {
     "data": {
      "text/html": [
       "<div>\n",
       "<style scoped>\n",
       "    .dataframe tbody tr th:only-of-type {\n",
       "        vertical-align: middle;\n",
       "    }\n",
       "\n",
       "    .dataframe tbody tr th {\n",
       "        vertical-align: top;\n",
       "    }\n",
       "\n",
       "    .dataframe thead th {\n",
       "        text-align: right;\n",
       "    }\n",
       "</style>\n",
       "<table border=\"1\" class=\"dataframe\">\n",
       "  <thead>\n",
       "    <tr style=\"text-align: right;\">\n",
       "      <th></th>\n",
       "      <th>Startup News</th>\n",
       "      <th>Summary</th>\n",
       "      <th>Posted By</th>\n",
       "      <th>Description</th>\n",
       "      <th>cumulative data</th>\n",
       "      <th>Tags</th>\n",
       "    </tr>\n",
       "  </thead>\n",
       "  <tbody>\n",
       "    <tr>\n",
       "      <th>0</th>\n",
       "      <td>How PUBG has redefined the Indian gaming ecosy...</td>\n",
       "      <td>Indians are well and truly addicted to PUBG th...</td>\n",
       "      <td>Puneet Kumar</td>\n",
       "      <td>Earlier this month, I went to my home town in ...</td>\n",
       "      <td>How PUBG has redefined the Indian gaming ecosy...</td>\n",
       "      <td>player, work, download, India, day, long, mobi...</td>\n",
       "    </tr>\n",
       "    <tr>\n",
       "      <th>1</th>\n",
       "      <td>Dream11 closes $100 M funding led by Tencent; ...</td>\n",
       "      <td></td>\n",
       "      <td>Vishal Krishna</td>\n",
       "      <td>Sports fantasy gaming company Dream11 has rais...</td>\n",
       "      <td>Dream11 closes $100 M funding led by Tencent; ...</td>\n",
       "      <td>Dream, percent, gamer, million, round, Nazara,...</td>\n",
       "    </tr>\n",
       "    <tr>\n",
       "      <th>2</th>\n",
       "      <td>How enterprise gaming has grown from a ridicul...</td>\n",
       "      <td></td>\n",
       "      <td>Kamalika Bhattacharya</td>\n",
       "      <td>Having spent a large part of my career in the ...</td>\n",
       "      <td>How enterprise gaming has grown from a ridicul...</td>\n",
       "      <td>mobile, opportunity, widespread, player, junk,...</td>\n",
       "    </tr>\n",
       "    <tr>\n",
       "      <th>3</th>\n",
       "      <td>These MBA grads are changing the way India loo...</td>\n",
       "      <td>From online tournaments to events, online poke...</td>\n",
       "      <td>Sindhu Kashyap</td>\n",
       "      <td>A deal, bated breath, a flush, a straight hand...</td>\n",
       "      <td>These MBA grads are changing the way India loo...</td>\n",
       "      <td>MadOverPoker, face, Abhishek, dramatic, change...</td>\n",
       "    </tr>\n",
       "    <tr>\n",
       "      <th>4</th>\n",
       "      <td>Facebook is celebrating two years of encouragi...</td>\n",
       "      <td></td>\n",
       "      <td>Team YS</td>\n",
       "      <td>Two years ago, Facebook India launched a uniqu...</td>\n",
       "      <td>Facebook is celebrating two years of encouragi...</td>\n",
       "      <td>encourage, sheleadstech, entrepreneur, resourc...</td>\n",
       "    </tr>\n",
       "  </tbody>\n",
       "</table>\n",
       "</div>"
      ],
      "text/plain": [
       "                                        Startup News  \\\n",
       "0  How PUBG has redefined the Indian gaming ecosy...   \n",
       "1  Dream11 closes $100 M funding led by Tencent; ...   \n",
       "2  How enterprise gaming has grown from a ridicul...   \n",
       "3  These MBA grads are changing the way India loo...   \n",
       "4  Facebook is celebrating two years of encouragi...   \n",
       "\n",
       "                                             Summary              Posted By  \\\n",
       "0  Indians are well and truly addicted to PUBG th...           Puneet Kumar   \n",
       "1                                                            Vishal Krishna   \n",
       "2                                                     Kamalika Bhattacharya   \n",
       "3  From online tournaments to events, online poke...         Sindhu Kashyap   \n",
       "4                                                                   Team YS   \n",
       "\n",
       "                                         Description  \\\n",
       "0  Earlier this month, I went to my home town in ...   \n",
       "1  Sports fantasy gaming company Dream11 has rais...   \n",
       "2  Having spent a large part of my career in the ...   \n",
       "3  A deal, bated breath, a flush, a straight hand...   \n",
       "4  Two years ago, Facebook India launched a uniqu...   \n",
       "\n",
       "                                     cumulative data  \\\n",
       "0  How PUBG has redefined the Indian gaming ecosy...   \n",
       "1  Dream11 closes $100 M funding led by Tencent; ...   \n",
       "2  How enterprise gaming has grown from a ridicul...   \n",
       "3  These MBA grads are changing the way India loo...   \n",
       "4  Facebook is celebrating two years of encouragi...   \n",
       "\n",
       "                                                Tags  \n",
       "0  player, work, download, India, day, long, mobi...  \n",
       "1  Dream, percent, gamer, million, round, Nazara,...  \n",
       "2  mobile, opportunity, widespread, player, junk,...  \n",
       "3  MadOverPoker, face, Abhishek, dramatic, change...  \n",
       "4  encourage, sheleadstech, entrepreneur, resourc...  "
      ]
     },
     "execution_count": 13,
     "metadata": {},
     "output_type": "execute_result"
    }
   ],
   "source": [
    "export.head()"
   ]
  },
  {
   "cell_type": "markdown",
   "metadata": {},
   "source": [
    "At last we finally analyzed the new dataframe export containing all column."
   ]
  }
 ],
 "metadata": {
  "colab": {
   "name": "POS and NER in text processing.ipynb",
   "provenance": [],
   "version": "0.3.2"
  },
  "kernelspec": {
   "display_name": "Python 3",
   "language": "python",
   "name": "python3"
  },
  "language_info": {
   "codemirror_mode": {
    "name": "ipython",
    "version": 3
   },
   "file_extension": ".py",
   "mimetype": "text/x-python",
   "name": "python",
   "nbconvert_exporter": "python",
   "pygments_lexer": "ipython3",
   "version": "3.7.3"
  }
 },
 "nbformat": 4,
 "nbformat_minor": 2
}
