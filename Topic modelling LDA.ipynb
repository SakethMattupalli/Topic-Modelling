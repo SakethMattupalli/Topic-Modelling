{
 "cells": [
  {
   "cell_type": "markdown",
   "metadata": {},
   "source": [
    "<img src=\"https://blog.edugrad.com/wp-content/uploads/2019/03/logo-icon.png\" style=\"height:100px\" align =\"right\">"
   ]
  },
  {
   "cell_type": "code",
   "execution_count": 1,
   "metadata": {},
   "outputs": [],
   "source": [
    "import pandas as pd\n",
    "\n",
    "import spacy\n",
    "nlp = spacy.load('en_core_web_sm')\n",
    "\n",
    "import gensim\n",
    "from gensim.models import LdaModel\n",
    "from gensim.corpora import Dictionary\n",
    "\n",
    "import re"
   ]
  },
  {
   "cell_type": "markdown",
   "metadata": {},
   "source": [
    "#### Here, we are loading the packages to be used for this particular type of project.\n",
    " - We loaded the Pandas library to work upon data structures in Python\n",
    " - We loaded spacy library to work upon Natural Language Processing\n",
    " - Then we loaded the en_core_web_sm model to work upon English Text\n",
    " - Thereafter we loaded the <b>gensim</b> package which contains high level text processing packages. We loaded the <b>LdaModel</b> which is stored under models in gensim and Dictionary for processing in gensim corpora\n",
    " - At the end we loaded the regular expression library to find specific patterns in data"
   ]
  },
  {
   "cell_type": "code",
   "execution_count": 2,
   "metadata": {},
   "outputs": [],
   "source": [
    "data = pd.read_excel('topic_modelling.xlsx')"
   ]
  },
  {
   "cell_type": "markdown",
   "metadata": {},
   "source": [
    "We then load the excel file <b>topic_modelling.xlsx</b> using pandas read_excel function"
   ]
  },
  {
   "cell_type": "code",
   "execution_count": 3,
   "metadata": {
    "scrolled": false
   },
   "outputs": [
    {
     "data": {
      "text/html": [
       "<div>\n",
       "<style scoped>\n",
       "    .dataframe tbody tr th:only-of-type {\n",
       "        vertical-align: middle;\n",
       "    }\n",
       "\n",
       "    .dataframe tbody tr th {\n",
       "        vertical-align: top;\n",
       "    }\n",
       "\n",
       "    .dataframe thead th {\n",
       "        text-align: right;\n",
       "    }\n",
       "</style>\n",
       "<table border=\"1\" class=\"dataframe\">\n",
       "  <thead>\n",
       "    <tr style=\"text-align: right;\">\n",
       "      <th></th>\n",
       "      <th>Startup News</th>\n",
       "      <th>Summary</th>\n",
       "      <th>Posted By</th>\n",
       "      <th>Description</th>\n",
       "    </tr>\n",
       "  </thead>\n",
       "  <tbody>\n",
       "    <tr>\n",
       "      <th>0</th>\n",
       "      <td>How PUBG has redefined the Indian gaming ecosy...</td>\n",
       "      <td>Indians are well and truly addicted to PUBG th...</td>\n",
       "      <td>Puneet Kumar</td>\n",
       "      <td>Earlier this month, I went to my home town in ...</td>\n",
       "    </tr>\n",
       "    <tr>\n",
       "      <th>1</th>\n",
       "      <td>Dream11 closes $100 M funding led by Tencent; ...</td>\n",
       "      <td>NaN</td>\n",
       "      <td>Vishal Krishna</td>\n",
       "      <td>Sports fantasy gaming company Dream11 has rais...</td>\n",
       "    </tr>\n",
       "    <tr>\n",
       "      <th>2</th>\n",
       "      <td>How enterprise gaming has grown from a ridicul...</td>\n",
       "      <td>NaN</td>\n",
       "      <td>Kamalika Bhattacharya</td>\n",
       "      <td>Having spent a large part of my career in the ...</td>\n",
       "    </tr>\n",
       "    <tr>\n",
       "      <th>3</th>\n",
       "      <td>These MBA grads are changing the way India loo...</td>\n",
       "      <td>From online tournaments to events, online poke...</td>\n",
       "      <td>Sindhu Kashyap</td>\n",
       "      <td>A deal, bated breath, a flush, a straight hand...</td>\n",
       "    </tr>\n",
       "    <tr>\n",
       "      <th>4</th>\n",
       "      <td>Facebook is celebrating two years of encouragi...</td>\n",
       "      <td>NaN</td>\n",
       "      <td>Team YS</td>\n",
       "      <td>Two years ago, Facebook India launched a uniqu...</td>\n",
       "    </tr>\n",
       "  </tbody>\n",
       "</table>\n",
       "</div>"
      ],
      "text/plain": [
       "                                        Startup News  \\\n",
       "0  How PUBG has redefined the Indian gaming ecosy...   \n",
       "1  Dream11 closes $100 M funding led by Tencent; ...   \n",
       "2  How enterprise gaming has grown from a ridicul...   \n",
       "3  These MBA grads are changing the way India loo...   \n",
       "4  Facebook is celebrating two years of encouragi...   \n",
       "\n",
       "                                             Summary              Posted By  \\\n",
       "0  Indians are well and truly addicted to PUBG th...           Puneet Kumar   \n",
       "1                                                NaN         Vishal Krishna   \n",
       "2                                                NaN  Kamalika Bhattacharya   \n",
       "3  From online tournaments to events, online poke...         Sindhu Kashyap   \n",
       "4                                                NaN                Team YS   \n",
       "\n",
       "                                         Description  \n",
       "0  Earlier this month, I went to my home town in ...  \n",
       "1  Sports fantasy gaming company Dream11 has rais...  \n",
       "2  Having spent a large part of my career in the ...  \n",
       "3  A deal, bated breath, a flush, a straight hand...  \n",
       "4  Two years ago, Facebook India launched a uniqu...  "
      ]
     },
     "execution_count": 3,
     "metadata": {},
     "output_type": "execute_result"
    }
   ],
   "source": [
    "data.head()"
   ]
  },
  {
   "cell_type": "markdown",
   "metadata": {},
   "source": [
    "We analyzed the data and find that there are several NaN values in Summary column."
   ]
  },
  {
   "cell_type": "code",
   "execution_count": 4,
   "metadata": {},
   "outputs": [
    {
     "data": {
      "text/plain": [
       "Startup News    0\n",
       "Summary         6\n",
       "Posted By       0\n",
       "Description     0\n",
       "dtype: int64"
      ]
     },
     "execution_count": 4,
     "metadata": {},
     "output_type": "execute_result"
    }
   ],
   "source": [
    "data.isnull().sum()"
   ]
  },
  {
   "cell_type": "markdown",
   "metadata": {},
   "source": [
    "To see if any other column contains Null or NaN value we used <b>.isnull().sum()</b> functionality and it revealed that only Summary column contains 6 Null values."
   ]
  },
  {
   "cell_type": "code",
   "execution_count": 5,
   "metadata": {},
   "outputs": [],
   "source": [
    "data.fillna(' ',inplace=True)"
   ]
  },
  {
   "cell_type": "markdown",
   "metadata": {},
   "source": [
    "Since, we are working upon text hence we filled the Null values by space which is being denoted by <b>' '<b>"
   ]
  },
  {
   "cell_type": "code",
   "execution_count": 6,
   "metadata": {},
   "outputs": [
    {
     "data": {
      "text/html": [
       "<div>\n",
       "<style scoped>\n",
       "    .dataframe tbody tr th:only-of-type {\n",
       "        vertical-align: middle;\n",
       "    }\n",
       "\n",
       "    .dataframe tbody tr th {\n",
       "        vertical-align: top;\n",
       "    }\n",
       "\n",
       "    .dataframe thead th {\n",
       "        text-align: right;\n",
       "    }\n",
       "</style>\n",
       "<table border=\"1\" class=\"dataframe\">\n",
       "  <thead>\n",
       "    <tr style=\"text-align: right;\">\n",
       "      <th></th>\n",
       "      <th>Startup News</th>\n",
       "      <th>Summary</th>\n",
       "      <th>Posted By</th>\n",
       "      <th>Description</th>\n",
       "    </tr>\n",
       "  </thead>\n",
       "  <tbody>\n",
       "    <tr>\n",
       "      <th>0</th>\n",
       "      <td>How PUBG has redefined the Indian gaming ecosy...</td>\n",
       "      <td>Indians are well and truly addicted to PUBG th...</td>\n",
       "      <td>Puneet Kumar</td>\n",
       "      <td>Earlier this month, I went to my home town in ...</td>\n",
       "    </tr>\n",
       "    <tr>\n",
       "      <th>1</th>\n",
       "      <td>Dream11 closes $100 M funding led by Tencent; ...</td>\n",
       "      <td></td>\n",
       "      <td>Vishal Krishna</td>\n",
       "      <td>Sports fantasy gaming company Dream11 has rais...</td>\n",
       "    </tr>\n",
       "    <tr>\n",
       "      <th>2</th>\n",
       "      <td>How enterprise gaming has grown from a ridicul...</td>\n",
       "      <td></td>\n",
       "      <td>Kamalika Bhattacharya</td>\n",
       "      <td>Having spent a large part of my career in the ...</td>\n",
       "    </tr>\n",
       "    <tr>\n",
       "      <th>3</th>\n",
       "      <td>These MBA grads are changing the way India loo...</td>\n",
       "      <td>From online tournaments to events, online poke...</td>\n",
       "      <td>Sindhu Kashyap</td>\n",
       "      <td>A deal, bated breath, a flush, a straight hand...</td>\n",
       "    </tr>\n",
       "    <tr>\n",
       "      <th>4</th>\n",
       "      <td>Facebook is celebrating two years of encouragi...</td>\n",
       "      <td></td>\n",
       "      <td>Team YS</td>\n",
       "      <td>Two years ago, Facebook India launched a uniqu...</td>\n",
       "    </tr>\n",
       "  </tbody>\n",
       "</table>\n",
       "</div>"
      ],
      "text/plain": [
       "                                        Startup News  \\\n",
       "0  How PUBG has redefined the Indian gaming ecosy...   \n",
       "1  Dream11 closes $100 M funding led by Tencent; ...   \n",
       "2  How enterprise gaming has grown from a ridicul...   \n",
       "3  These MBA grads are changing the way India loo...   \n",
       "4  Facebook is celebrating two years of encouragi...   \n",
       "\n",
       "                                             Summary              Posted By  \\\n",
       "0  Indians are well and truly addicted to PUBG th...           Puneet Kumar   \n",
       "1                                                            Vishal Krishna   \n",
       "2                                                     Kamalika Bhattacharya   \n",
       "3  From online tournaments to events, online poke...         Sindhu Kashyap   \n",
       "4                                                                   Team YS   \n",
       "\n",
       "                                         Description  \n",
       "0  Earlier this month, I went to my home town in ...  \n",
       "1  Sports fantasy gaming company Dream11 has rais...  \n",
       "2  Having spent a large part of my career in the ...  \n",
       "3  A deal, bated breath, a flush, a straight hand...  \n",
       "4  Two years ago, Facebook India launched a uniqu...  "
      ]
     },
     "execution_count": 6,
     "metadata": {},
     "output_type": "execute_result"
    }
   ],
   "source": [
    "data.head()"
   ]
  },
  {
   "cell_type": "markdown",
   "metadata": {},
   "source": [
    "Analyzing the data we find out that instead of <b>NaN</b> now space is being displayed"
   ]
  },
  {
   "cell_type": "code",
   "execution_count": 7,
   "metadata": {},
   "outputs": [],
   "source": [
    "data['cumulative data'] = data['Startup News'] + data['Summary'] + data['Description']"
   ]
  },
  {
   "cell_type": "markdown",
   "metadata": {},
   "source": [
    "Now, our aim is to find attributes of data such as Person Name, Location and Organization so we combined <b>Startup News, Summary</b> and <b>Description</b> column as anyone of them can contain potential detail"
   ]
  },
  {
   "cell_type": "code",
   "execution_count": 8,
   "metadata": {},
   "outputs": [
    {
     "data": {
      "text/html": [
       "<div>\n",
       "<style scoped>\n",
       "    .dataframe tbody tr th:only-of-type {\n",
       "        vertical-align: middle;\n",
       "    }\n",
       "\n",
       "    .dataframe tbody tr th {\n",
       "        vertical-align: top;\n",
       "    }\n",
       "\n",
       "    .dataframe thead th {\n",
       "        text-align: right;\n",
       "    }\n",
       "</style>\n",
       "<table border=\"1\" class=\"dataframe\">\n",
       "  <thead>\n",
       "    <tr style=\"text-align: right;\">\n",
       "      <th></th>\n",
       "      <th>Startup News</th>\n",
       "      <th>Summary</th>\n",
       "      <th>Posted By</th>\n",
       "      <th>Description</th>\n",
       "      <th>cumulative data</th>\n",
       "    </tr>\n",
       "  </thead>\n",
       "  <tbody>\n",
       "    <tr>\n",
       "      <th>0</th>\n",
       "      <td>How PUBG has redefined the Indian gaming ecosy...</td>\n",
       "      <td>Indians are well and truly addicted to PUBG th...</td>\n",
       "      <td>Puneet Kumar</td>\n",
       "      <td>Earlier this month, I went to my home town in ...</td>\n",
       "      <td>How PUBG has redefined the Indian gaming ecosy...</td>\n",
       "    </tr>\n",
       "    <tr>\n",
       "      <th>1</th>\n",
       "      <td>Dream11 closes $100 M funding led by Tencent; ...</td>\n",
       "      <td></td>\n",
       "      <td>Vishal Krishna</td>\n",
       "      <td>Sports fantasy gaming company Dream11 has rais...</td>\n",
       "      <td>Dream11 closes $100 M funding led by Tencent; ...</td>\n",
       "    </tr>\n",
       "    <tr>\n",
       "      <th>2</th>\n",
       "      <td>How enterprise gaming has grown from a ridicul...</td>\n",
       "      <td></td>\n",
       "      <td>Kamalika Bhattacharya</td>\n",
       "      <td>Having spent a large part of my career in the ...</td>\n",
       "      <td>How enterprise gaming has grown from a ridicul...</td>\n",
       "    </tr>\n",
       "    <tr>\n",
       "      <th>3</th>\n",
       "      <td>These MBA grads are changing the way India loo...</td>\n",
       "      <td>From online tournaments to events, online poke...</td>\n",
       "      <td>Sindhu Kashyap</td>\n",
       "      <td>A deal, bated breath, a flush, a straight hand...</td>\n",
       "      <td>These MBA grads are changing the way India loo...</td>\n",
       "    </tr>\n",
       "    <tr>\n",
       "      <th>4</th>\n",
       "      <td>Facebook is celebrating two years of encouragi...</td>\n",
       "      <td></td>\n",
       "      <td>Team YS</td>\n",
       "      <td>Two years ago, Facebook India launched a uniqu...</td>\n",
       "      <td>Facebook is celebrating two years of encouragi...</td>\n",
       "    </tr>\n",
       "  </tbody>\n",
       "</table>\n",
       "</div>"
      ],
      "text/plain": [
       "                                        Startup News  \\\n",
       "0  How PUBG has redefined the Indian gaming ecosy...   \n",
       "1  Dream11 closes $100 M funding led by Tencent; ...   \n",
       "2  How enterprise gaming has grown from a ridicul...   \n",
       "3  These MBA grads are changing the way India loo...   \n",
       "4  Facebook is celebrating two years of encouragi...   \n",
       "\n",
       "                                             Summary              Posted By  \\\n",
       "0  Indians are well and truly addicted to PUBG th...           Puneet Kumar   \n",
       "1                                                            Vishal Krishna   \n",
       "2                                                     Kamalika Bhattacharya   \n",
       "3  From online tournaments to events, online poke...         Sindhu Kashyap   \n",
       "4                                                                   Team YS   \n",
       "\n",
       "                                         Description  \\\n",
       "0  Earlier this month, I went to my home town in ...   \n",
       "1  Sports fantasy gaming company Dream11 has rais...   \n",
       "2  Having spent a large part of my career in the ...   \n",
       "3  A deal, bated breath, a flush, a straight hand...   \n",
       "4  Two years ago, Facebook India launched a uniqu...   \n",
       "\n",
       "                                     cumulative data  \n",
       "0  How PUBG has redefined the Indian gaming ecosy...  \n",
       "1  Dream11 closes $100 M funding led by Tencent; ...  \n",
       "2  How enterprise gaming has grown from a ridicul...  \n",
       "3  These MBA grads are changing the way India loo...  \n",
       "4  Facebook is celebrating two years of encouragi...  "
      ]
     },
     "execution_count": 8,
     "metadata": {},
     "output_type": "execute_result"
    }
   ],
   "source": [
    "data.head()"
   ]
  },
  {
   "cell_type": "markdown",
   "metadata": {},
   "source": [
    "Analyzing the final dataset after combining dataset"
   ]
  },
  {
   "cell_type": "code",
   "execution_count": 9,
   "metadata": {},
   "outputs": [],
   "source": [
    "text = data['cumulative data'].values.tolist()\n",
    "my_stop_words = [u'say',u'\\s',u'Mr',u'Mrs',u'said',u'says',u'saying']"
   ]
  },
  {
   "cell_type": "markdown",
   "metadata": {},
   "source": [
    "We extracted the <b>cumulative data</b> column from the data dataframe and converted it to list for faster accessibility.\n",
    "<br>Then, we defined our custom stopwords inside a list</br>"
   ]
  },
  {
   "cell_type": "code",
   "execution_count": 10,
   "metadata": {},
   "outputs": [],
   "source": [
    "for stopword in my_stop_words:\n",
    "    nlp.vocab[stopword].is_stop = True"
   ]
  },
  {
   "cell_type": "markdown",
   "metadata": {},
   "source": [
    "We iterated over <b>my_stop_words</b> list and using nlp pipeline vocab functionality we made the boolean result of operation <b>is_stop</b> of each stopword as True, i.e. each word in my_stop_words list is made a stopword in spacy corpus"
   ]
  },
  {
   "cell_type": "markdown",
   "metadata": {},
   "source": [
    "## Applying Topic modelling using LDA algorithm"
   ]
  },
  {
   "cell_type": "code",
   "execution_count": 11,
   "metadata": {},
   "outputs": [],
   "source": [
    "def topic_modeller(texting):\n",
    "    doc = nlp(texting)\n",
    "    article = []\n",
    "    for w in doc:\n",
    "        if w.is_stop!=True and not w.is_punct and not w.like_num:\n",
    "            article.append(w.lemma_)\n",
    "    bigram = gensim.models.Phrases(article)\n",
    "    texts = [bigram[line] for line in article]\n",
    "    article = [d.split() for d in article]\n",
    "    dictionary = Dictionary(article)\n",
    "    corpus = [dictionary.doc2bow(text) for text in article]\n",
    "    ldamodel = LdaModel(corpus=corpus,id2word=dictionary,num_topics=8,random_state=42)\n",
    "    ab = ldamodel.show_topics(num_topics=2)\n",
    "    b = re.sub(\"[^a-zA-Z]{4,}\",\" \",str(ab))\n",
    "    b = b.split()\n",
    "    unique_list = []\n",
    "    for x in b: \n",
    "        if x not in unique_list:\n",
    "            unique_list.append(x)\n",
    "    line = [i for i in unique_list if len(i) > 1]\n",
    "    return line"
   ]
  },
  {
   "cell_type": "markdown",
   "metadata": {},
   "source": [
    "Then, we defined a function called <b>topic_modeller</b> which accepts a string as input. We tokenized the input string so recieved.\n",
    "<br>We iterated over each token of tokenized input string and checked whether it is a stop word, punctuation mark or a number.\n",
    "If it is not then its lemmatized version is being stored into article list</br>\n",
    "<br>Then, we made bigrams and converted whole tokens into bigram to check possibility of words occuring together such as New York, Big Data etc.</br>\n",
    "<br>Afterwards, we prepared a dictionary and corpus to be used by LdaModel. We called the LdaModel and passed formed corpus and dictionary and decided 8 as number of topics</br>\n",
    "<br>The final output contains 2 sets of 8-8 topics making in total 16 topics to justify a document completely.</br>\n",
    "<br>Then, we applied regular expression to extract tags of length more than 4 and stored only unique topics.\n",
    "Thereafter, we returned the list <b>line</b> which contains final topics for the input story</br>"
   ]
  },
  {
   "cell_type": "code",
   "execution_count": 12,
   "metadata": {},
   "outputs": [],
   "source": [
    "result = []\n",
    "for j in text:\n",
    "    result.append(topic_modeller(j))\n",
    "data['Tags'] = result\n",
    "data['Tags'] = data['Tags'].str.join(', ')\n",
    "\n",
    "export = data[['Startup News','Summary','Posted By','Description','cumulative data','Tags']]"
   ]
  },
  {
   "cell_type": "markdown",
   "metadata": {},
   "source": [
    "We passed each story one by one to topic_modeller function and stored the result into <b>result</b> variable\n",
    "\n",
    "We then store all Tags to column <b>Tags</b> in dataframe data where each story contains corresponding tags"
   ]
  },
  {
   "cell_type": "code",
   "execution_count": 13,
   "metadata": {},
   "outputs": [
    {
     "data": {
      "text/html": [
       "<div>\n",
       "<style scoped>\n",
       "    .dataframe tbody tr th:only-of-type {\n",
       "        vertical-align: middle;\n",
       "    }\n",
       "\n",
       "    .dataframe tbody tr th {\n",
       "        vertical-align: top;\n",
       "    }\n",
       "\n",
       "    .dataframe thead th {\n",
       "        text-align: right;\n",
       "    }\n",
       "</style>\n",
       "<table border=\"1\" class=\"dataframe\">\n",
       "  <thead>\n",
       "    <tr style=\"text-align: right;\">\n",
       "      <th></th>\n",
       "      <th>Startup News</th>\n",
       "      <th>Summary</th>\n",
       "      <th>Posted By</th>\n",
       "      <th>Description</th>\n",
       "      <th>cumulative data</th>\n",
       "      <th>Tags</th>\n",
       "    </tr>\n",
       "  </thead>\n",
       "  <tbody>\n",
       "    <tr>\n",
       "      <th>0</th>\n",
       "      <td>How PUBG has redefined the Indian gaming ecosy...</td>\n",
       "      <td>Indians are well and truly addicted to PUBG th...</td>\n",
       "      <td>Puneet Kumar</td>\n",
       "      <td>Earlier this month, I went to my home town in ...</td>\n",
       "      <td>How PUBG has redefined the Indian gaming ecosy...</td>\n",
       "      <td>player, work, download, India, day, long, mobi...</td>\n",
       "    </tr>\n",
       "    <tr>\n",
       "      <th>1</th>\n",
       "      <td>Dream11 closes $100 M funding led by Tencent; ...</td>\n",
       "      <td></td>\n",
       "      <td>Vishal Krishna</td>\n",
       "      <td>Sports fantasy gaming company Dream11 has rais...</td>\n",
       "      <td>Dream11 closes $100 M funding led by Tencent; ...</td>\n",
       "      <td>Dream, percent, gamer, million, round, Nazara,...</td>\n",
       "    </tr>\n",
       "    <tr>\n",
       "      <th>2</th>\n",
       "      <td>How enterprise gaming has grown from a ridicul...</td>\n",
       "      <td></td>\n",
       "      <td>Kamalika Bhattacharya</td>\n",
       "      <td>Having spent a large part of my career in the ...</td>\n",
       "      <td>How enterprise gaming has grown from a ridicul...</td>\n",
       "      <td>mobile, opportunity, widespread, player, junk,...</td>\n",
       "    </tr>\n",
       "    <tr>\n",
       "      <th>3</th>\n",
       "      <td>These MBA grads are changing the way India loo...</td>\n",
       "      <td>From online tournaments to events, online poke...</td>\n",
       "      <td>Sindhu Kashyap</td>\n",
       "      <td>A deal, bated breath, a flush, a straight hand...</td>\n",
       "      <td>These MBA grads are changing the way India loo...</td>\n",
       "      <td>MadOverPoker, face, Abhishek, dramatic, change...</td>\n",
       "    </tr>\n",
       "    <tr>\n",
       "      <th>4</th>\n",
       "      <td>Facebook is celebrating two years of encouragi...</td>\n",
       "      <td></td>\n",
       "      <td>Team YS</td>\n",
       "      <td>Two years ago, Facebook India launched a uniqu...</td>\n",
       "      <td>Facebook is celebrating two years of encouragi...</td>\n",
       "      <td>encourage, sheleadstech, entrepreneur, resourc...</td>\n",
       "    </tr>\n",
       "  </tbody>\n",
       "</table>\n",
       "</div>"
      ],
      "text/plain": [
       "                                        Startup News  \\\n",
       "0  How PUBG has redefined the Indian gaming ecosy...   \n",
       "1  Dream11 closes $100 M funding led by Tencent; ...   \n",
       "2  How enterprise gaming has grown from a ridicul...   \n",
       "3  These MBA grads are changing the way India loo...   \n",
       "4  Facebook is celebrating two years of encouragi...   \n",
       "\n",
       "                                             Summary              Posted By  \\\n",
       "0  Indians are well and truly addicted to PUBG th...           Puneet Kumar   \n",
       "1                                                            Vishal Krishna   \n",
       "2                                                     Kamalika Bhattacharya   \n",
       "3  From online tournaments to events, online poke...         Sindhu Kashyap   \n",
       "4                                                                   Team YS   \n",
       "\n",
       "                                         Description  \\\n",
       "0  Earlier this month, I went to my home town in ...   \n",
       "1  Sports fantasy gaming company Dream11 has rais...   \n",
       "2  Having spent a large part of my career in the ...   \n",
       "3  A deal, bated breath, a flush, a straight hand...   \n",
       "4  Two years ago, Facebook India launched a uniqu...   \n",
       "\n",
       "                                     cumulative data  \\\n",
       "0  How PUBG has redefined the Indian gaming ecosy...   \n",
       "1  Dream11 closes $100 M funding led by Tencent; ...   \n",
       "2  How enterprise gaming has grown from a ridicul...   \n",
       "3  These MBA grads are changing the way India loo...   \n",
       "4  Facebook is celebrating two years of encouragi...   \n",
       "\n",
       "                                                Tags  \n",
       "0  player, work, download, India, day, long, mobi...  \n",
       "1  Dream, percent, gamer, million, round, Nazara,...  \n",
       "2  mobile, opportunity, widespread, player, junk,...  \n",
       "3  MadOverPoker, face, Abhishek, dramatic, change...  \n",
       "4  encourage, sheleadstech, entrepreneur, resourc...  "
      ]
     },
     "execution_count": 13,
     "metadata": {},
     "output_type": "execute_result"
    }
   ],
   "source": [
    "export.head()"
   ]
  },
  {
   "cell_type": "markdown",
   "metadata": {},
   "source": [
    "At last we finally analyzed the new dataframe export containing all column."
   ]
  }
 ],
 "metadata": {
  "kernelspec": {
   "display_name": "Python 3",
   "language": "python",
   "name": "python3"
  },
  "language_info": {
   "codemirror_mode": {
    "name": "ipython",
    "version": 3
   },
   "file_extension": ".py",
   "mimetype": "text/x-python",
   "name": "python",
   "nbconvert_exporter": "python",
   "pygments_lexer": "ipython3",
   "version": "3.7.3"
  }
 },
 "nbformat": 4,
 "nbformat_minor": 2
}
